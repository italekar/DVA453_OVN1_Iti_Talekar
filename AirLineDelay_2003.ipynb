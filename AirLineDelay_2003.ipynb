{
 "cells": [
  {
   "cell_type": "code",
   "execution_count": 2,
   "metadata": {},
   "outputs": [],
   "source": [
    "import pandas as pd\n",
    "import numpy as np\n",
    "from os import walk\n",
    "import time\n",
    "import matplotlib.pyplot as plt\n",
    "import seaborn as sns\n",
    "%matplotlib inline\n",
    "sns.set_style('whitegrid')"
   ]
  },
  {
   "cell_type": "code",
   "execution_count": 3,
   "metadata": {},
   "outputs": [
    {
     "name": "stderr",
     "output_type": "stream",
     "text": [
      "C:\\Users\\itiag\\Anaconda3\\lib\\site-packages\\IPython\\core\\interactiveshell.py:3057: DtypeWarning: Columns (22) have mixed types. Specify dtype option on import or set low_memory=False.\n",
      "  interactivity=interactivity, compiler=compiler, result=result)\n"
     ]
    },
    {
     "name": "stdout",
     "output_type": "stream",
     "text": [
      "34.859041690826416\n"
     ]
    }
   ],
   "source": [
    "tic = time.time()\n",
    "#Read airline data file for year 2003\n",
    "df_flight = pd.read_csv(\"2003.csv\")\n",
    "toc = time.time()\n",
    "print(toc-tic)"
   ]
  },
  {
   "cell_type": "code",
   "execution_count": 4,
   "metadata": {},
   "outputs": [
    {
     "data": {
      "text/html": [
       "<div>\n",
       "<style scoped>\n",
       "    .dataframe tbody tr th:only-of-type {\n",
       "        vertical-align: middle;\n",
       "    }\n",
       "\n",
       "    .dataframe tbody tr th {\n",
       "        vertical-align: top;\n",
       "    }\n",
       "\n",
       "    .dataframe thead th {\n",
       "        text-align: right;\n",
       "    }\n",
       "</style>\n",
       "<table border=\"1\" class=\"dataframe\">\n",
       "  <thead>\n",
       "    <tr style=\"text-align: right;\">\n",
       "      <th></th>\n",
       "      <th>Year</th>\n",
       "      <th>Month</th>\n",
       "      <th>DayofMonth</th>\n",
       "      <th>DayOfWeek</th>\n",
       "      <th>UniqueCarrier</th>\n",
       "      <th>ArrTime</th>\n",
       "      <th>CRSArrTime</th>\n",
       "      <th>CRSDepTime</th>\n",
       "      <th>ArrDelay</th>\n",
       "      <th>DepDelay</th>\n",
       "      <th>Origin</th>\n",
       "      <th>Dest</th>\n",
       "      <th>Distance</th>\n",
       "      <th>Cancelled</th>\n",
       "    </tr>\n",
       "  </thead>\n",
       "  <tbody>\n",
       "    <tr>\n",
       "      <th>0</th>\n",
       "      <td>2003</td>\n",
       "      <td>1</td>\n",
       "      <td>29</td>\n",
       "      <td>3</td>\n",
       "      <td>UA</td>\n",
       "      <td>1912.0</td>\n",
       "      <td>1913</td>\n",
       "      <td>1655</td>\n",
       "      <td>-1.0</td>\n",
       "      <td>-4.0</td>\n",
       "      <td>ORD</td>\n",
       "      <td>MSY</td>\n",
       "      <td>837</td>\n",
       "      <td>0</td>\n",
       "    </tr>\n",
       "    <tr>\n",
       "      <th>1</th>\n",
       "      <td>2003</td>\n",
       "      <td>1</td>\n",
       "      <td>30</td>\n",
       "      <td>4</td>\n",
       "      <td>UA</td>\n",
       "      <td>1910.0</td>\n",
       "      <td>1913</td>\n",
       "      <td>1655</td>\n",
       "      <td>-3.0</td>\n",
       "      <td>-1.0</td>\n",
       "      <td>ORD</td>\n",
       "      <td>MSY</td>\n",
       "      <td>837</td>\n",
       "      <td>0</td>\n",
       "    </tr>\n",
       "    <tr>\n",
       "      <th>2</th>\n",
       "      <td>2003</td>\n",
       "      <td>1</td>\n",
       "      <td>31</td>\n",
       "      <td>5</td>\n",
       "      <td>UA</td>\n",
       "      <td>1936.0</td>\n",
       "      <td>1913</td>\n",
       "      <td>1655</td>\n",
       "      <td>23.0</td>\n",
       "      <td>29.0</td>\n",
       "      <td>ORD</td>\n",
       "      <td>MSY</td>\n",
       "      <td>837</td>\n",
       "      <td>0</td>\n",
       "    </tr>\n",
       "    <tr>\n",
       "      <th>3</th>\n",
       "      <td>2003</td>\n",
       "      <td>1</td>\n",
       "      <td>1</td>\n",
       "      <td>3</td>\n",
       "      <td>UA</td>\n",
       "      <td>1625.0</td>\n",
       "      <td>1634</td>\n",
       "      <td>1035</td>\n",
       "      <td>-9.0</td>\n",
       "      <td>-2.0</td>\n",
       "      <td>OAK</td>\n",
       "      <td>ORD</td>\n",
       "      <td>1835</td>\n",
       "      <td>0</td>\n",
       "    </tr>\n",
       "    <tr>\n",
       "      <th>4</th>\n",
       "      <td>2003</td>\n",
       "      <td>1</td>\n",
       "      <td>2</td>\n",
       "      <td>4</td>\n",
       "      <td>UA</td>\n",
       "      <td>1726.0</td>\n",
       "      <td>1634</td>\n",
       "      <td>1035</td>\n",
       "      <td>52.0</td>\n",
       "      <td>18.0</td>\n",
       "      <td>OAK</td>\n",
       "      <td>ORD</td>\n",
       "      <td>1835</td>\n",
       "      <td>0</td>\n",
       "    </tr>\n",
       "  </tbody>\n",
       "</table>\n",
       "</div>"
      ],
      "text/plain": [
       "   Year  Month  DayofMonth  DayOfWeek UniqueCarrier  ArrTime  CRSArrTime  \\\n",
       "0  2003      1          29          3            UA   1912.0        1913   \n",
       "1  2003      1          30          4            UA   1910.0        1913   \n",
       "2  2003      1          31          5            UA   1936.0        1913   \n",
       "3  2003      1           1          3            UA   1625.0        1634   \n",
       "4  2003      1           2          4            UA   1726.0        1634   \n",
       "\n",
       "   CRSDepTime  ArrDelay  DepDelay Origin Dest  Distance  Cancelled  \n",
       "0        1655      -1.0      -4.0    ORD  MSY       837          0  \n",
       "1        1655      -3.0      -1.0    ORD  MSY       837          0  \n",
       "2        1655      23.0      29.0    ORD  MSY       837          0  \n",
       "3        1035      -9.0      -2.0    OAK  ORD      1835          0  \n",
       "4        1035      52.0      18.0    OAK  ORD      1835          0  "
      ]
     },
     "execution_count": 4,
     "metadata": {},
     "output_type": "execute_result"
    }
   ],
   "source": [
    "# Filter out unimportant columns\n",
    "\n",
    "df_flight = df_flight[['Year',\n",
    " 'Month',\n",
    " 'DayofMonth',\n",
    " 'DayOfWeek',\n",
    " 'UniqueCarrier',\n",
    " 'ArrTime',                     \n",
    " 'CRSArrTime',                     \n",
    " 'CRSDepTime',\n",
    " 'ArrDelay',\n",
    " 'DepDelay',                      \n",
    " 'Origin',\n",
    " 'Dest' ,                    \n",
    " 'Distance',\n",
    " 'Cancelled' ]]\n",
    "\n",
    "df_flight.head(5)"
   ]
  },
  {
   "cell_type": "code",
   "execution_count": 7,
   "metadata": {},
   "outputs": [
    {
     "data": {
      "text/plain": [
       "(101469, 14)"
      ]
     },
     "execution_count": 7,
     "metadata": {},
     "output_type": "execute_result"
    }
   ],
   "source": [
    "# Assign data to df_cancelled if flight is cancelled\n",
    "df_cancelled=df_flight[df_flight['Cancelled']==1]\n",
    "df_cancelled.shape"
   ]
  },
  {
   "cell_type": "code",
   "execution_count": 9,
   "metadata": {},
   "outputs": [
    {
     "data": {
      "text/html": [
       "<div>\n",
       "<style scoped>\n",
       "    .dataframe tbody tr th:only-of-type {\n",
       "        vertical-align: middle;\n",
       "    }\n",
       "\n",
       "    .dataframe tbody tr th {\n",
       "        vertical-align: top;\n",
       "    }\n",
       "\n",
       "    .dataframe thead th {\n",
       "        text-align: right;\n",
       "    }\n",
       "</style>\n",
       "<table border=\"1\" class=\"dataframe\">\n",
       "  <thead>\n",
       "    <tr style=\"text-align: right;\">\n",
       "      <th></th>\n",
       "      <th>Year</th>\n",
       "      <th>Month</th>\n",
       "      <th>DayofMonth</th>\n",
       "      <th>DayOfWeek</th>\n",
       "      <th>UniqueCarrier</th>\n",
       "      <th>ArrTime</th>\n",
       "      <th>CRSArrTime</th>\n",
       "      <th>CRSDepTime</th>\n",
       "      <th>ArrDelay</th>\n",
       "      <th>DepDelay</th>\n",
       "      <th>Origin</th>\n",
       "      <th>Dest</th>\n",
       "      <th>Distance</th>\n",
       "      <th>Cancelled</th>\n",
       "    </tr>\n",
       "  </thead>\n",
       "  <tbody>\n",
       "    <tr>\n",
       "      <th>52</th>\n",
       "      <td>2003</td>\n",
       "      <td>1</td>\n",
       "      <td>13</td>\n",
       "      <td>1</td>\n",
       "      <td>UA</td>\n",
       "      <td>NaN</td>\n",
       "      <td>1539</td>\n",
       "      <td>1400</td>\n",
       "      <td>NaN</td>\n",
       "      <td>NaN</td>\n",
       "      <td>BOS</td>\n",
       "      <td>IAD</td>\n",
       "      <td>413</td>\n",
       "      <td>1</td>\n",
       "    </tr>\n",
       "    <tr>\n",
       "      <th>164</th>\n",
       "      <td>2003</td>\n",
       "      <td>1</td>\n",
       "      <td>7</td>\n",
       "      <td>2</td>\n",
       "      <td>UA</td>\n",
       "      <td>NaN</td>\n",
       "      <td>1610</td>\n",
       "      <td>1445</td>\n",
       "      <td>NaN</td>\n",
       "      <td>NaN</td>\n",
       "      <td>ORD</td>\n",
       "      <td>MSP</td>\n",
       "      <td>334</td>\n",
       "      <td>1</td>\n",
       "    </tr>\n",
       "    <tr>\n",
       "      <th>246</th>\n",
       "      <td>2003</td>\n",
       "      <td>1</td>\n",
       "      <td>23</td>\n",
       "      <td>4</td>\n",
       "      <td>UA</td>\n",
       "      <td>NaN</td>\n",
       "      <td>911</td>\n",
       "      <td>725</td>\n",
       "      <td>NaN</td>\n",
       "      <td>NaN</td>\n",
       "      <td>TPA</td>\n",
       "      <td>ORD</td>\n",
       "      <td>1012</td>\n",
       "      <td>1</td>\n",
       "    </tr>\n",
       "    <tr>\n",
       "      <th>556</th>\n",
       "      <td>2003</td>\n",
       "      <td>1</td>\n",
       "      <td>27</td>\n",
       "      <td>1</td>\n",
       "      <td>UA</td>\n",
       "      <td>NaN</td>\n",
       "      <td>1725</td>\n",
       "      <td>1625</td>\n",
       "      <td>NaN</td>\n",
       "      <td>NaN</td>\n",
       "      <td>PHX</td>\n",
       "      <td>SFO</td>\n",
       "      <td>651</td>\n",
       "      <td>1</td>\n",
       "    </tr>\n",
       "    <tr>\n",
       "      <th>1295</th>\n",
       "      <td>2003</td>\n",
       "      <td>1</td>\n",
       "      <td>22</td>\n",
       "      <td>3</td>\n",
       "      <td>UA</td>\n",
       "      <td>NaN</td>\n",
       "      <td>1437</td>\n",
       "      <td>1254</td>\n",
       "      <td>NaN</td>\n",
       "      <td>NaN</td>\n",
       "      <td>BOI</td>\n",
       "      <td>DEN</td>\n",
       "      <td>649</td>\n",
       "      <td>1</td>\n",
       "    </tr>\n",
       "  </tbody>\n",
       "</table>\n",
       "</div>"
      ],
      "text/plain": [
       "      Year  Month  DayofMonth  DayOfWeek UniqueCarrier  ArrTime  CRSArrTime  \\\n",
       "52    2003      1          13          1            UA      NaN        1539   \n",
       "164   2003      1           7          2            UA      NaN        1610   \n",
       "246   2003      1          23          4            UA      NaN         911   \n",
       "556   2003      1          27          1            UA      NaN        1725   \n",
       "1295  2003      1          22          3            UA      NaN        1437   \n",
       "\n",
       "      CRSDepTime  ArrDelay  DepDelay Origin Dest  Distance  Cancelled  \n",
       "52          1400       NaN       NaN    BOS  IAD       413          1  \n",
       "164         1445       NaN       NaN    ORD  MSP       334          1  \n",
       "246          725       NaN       NaN    TPA  ORD      1012          1  \n",
       "556         1625       NaN       NaN    PHX  SFO       651          1  \n",
       "1295        1254       NaN       NaN    BOI  DEN       649          1  "
      ]
     },
     "execution_count": 9,
     "metadata": {},
     "output_type": "execute_result"
    }
   ],
   "source": [
    "df_cancelled.head(5)"
   ]
  },
  {
   "cell_type": "code",
   "execution_count": 6,
   "metadata": {},
   "outputs": [
    {
     "name": "stdout",
     "output_type": "stream",
     "text": [
      "3.1993799209594727\n"
     ]
    }
   ],
   "source": [
    "tic = time.time()\n",
    "# Write data to CSV for future use\n",
    "df_cancelled.to_csv('cancelled_airline_2003_data.csv',index=False)\n",
    "toc = time.time()\n",
    "print(toc-tic)"
   ]
  },
  {
   "cell_type": "code",
   "execution_count": 8,
   "metadata": {},
   "outputs": [
    {
     "data": {
      "text/plain": [
       "ArrDelay     112851\n",
       "ArrTime      112850\n",
       "DepDelay     101469\n",
       "Cancelled         0\n",
       "Distance          0\n",
       "dtype: int64"
      ]
     },
     "execution_count": 8,
     "metadata": {},
     "output_type": "execute_result"
    }
   ],
   "source": [
    "# How much of your data is missing?\n",
    "df_flight.isnull().sum().sort_values(ascending=False).head()"
   ]
  },
  {
   "cell_type": "code",
   "execution_count": 10,
   "metadata": {},
   "outputs": [
    {
     "data": {
      "text/plain": [
       "(6387071, 14)"
      ]
     },
     "execution_count": 10,
     "metadata": {},
     "output_type": "execute_result"
    }
   ],
   "source": [
    "#Cancelled flights has null data in ArrDelay, ArrTime, DepDelay, \n",
    "#thus we are keeping only on cancelled flight for delay analysis\n",
    "# Assign data to df_cancelled if flight is non cancelled\n",
    "df_delay=df_flight[df_flight['Cancelled']==0]\n",
    "df_delay.shape\n"
   ]
  },
  {
   "cell_type": "code",
   "execution_count": 17,
   "metadata": {},
   "outputs": [
    {
     "name": "stdout",
     "output_type": "stream",
     "text": [
      "Data Retained: 99.82 %\n"
     ]
    },
    {
     "name": "stderr",
     "output_type": "stream",
     "text": [
      "C:\\Users\\itiag\\Anaconda3\\lib\\site-packages\\ipykernel_launcher.py:4: SettingWithCopyWarning: \n",
      "A value is trying to be set on a copy of a slice from a DataFrame\n",
      "\n",
      "See the caveats in the documentation: http://pandas.pydata.org/pandas-docs/stable/indexing.html#indexing-view-versus-copy\n",
      "  after removing the cwd from sys.path.\n"
     ]
    }
   ],
   "source": [
    "#Drop rows with missing data in the important columns, i.e. the predictors for flight delay\n",
    "total_data_rows = len(df_delay.index)\n",
    "#Drop NaNs\n",
    "df_delay.dropna(subset = ['ArrDelay','ArrTime'],inplace=True)\n",
    "data_retained = len(df_delay.index)/total_data_rows\n",
    "print('Data Retained: '+str(round(data_retained*100,2))+' %')"
   ]
  },
  {
   "cell_type": "code",
   "execution_count": 18,
   "metadata": {},
   "outputs": [
    {
     "data": {
      "text/plain": [
       "Cancelled    0\n",
       "Distance     0\n",
       "Dest         0\n",
       "Origin       0\n",
       "DepDelay     0\n",
       "dtype: int64"
      ]
     },
     "execution_count": 18,
     "metadata": {},
     "output_type": "execute_result"
    }
   ],
   "source": [
    "# How much of your data is missing?\n",
    "df_delay.isnull().sum().sort_values(ascending=False).head()"
   ]
  },
  {
   "cell_type": "code",
   "execution_count": 20,
   "metadata": {},
   "outputs": [
    {
     "name": "stderr",
     "output_type": "stream",
     "text": [
      "C:\\Users\\itiag\\Anaconda3\\lib\\site-packages\\ipykernel_launcher.py:3: SettingWithCopyWarning: \n",
      "A value is trying to be set on a copy of a slice from a DataFrame.\n",
      "Try using .loc[row_indexer,col_indexer] = value instead\n",
      "\n",
      "See the caveats in the documentation: http://pandas.pydata.org/pandas-docs/stable/indexing.html#indexing-view-versus-copy\n",
      "  This is separate from the ipykernel package so we can avoid doing imports until\n",
      "C:\\Users\\itiag\\Anaconda3\\lib\\site-packages\\ipykernel_launcher.py:5: SettingWithCopyWarning: \n",
      "A value is trying to be set on a copy of a slice from a DataFrame.\n",
      "Try using .loc[row_indexer,col_indexer] = value instead\n",
      "\n",
      "See the caveats in the documentation: http://pandas.pydata.org/pandas-docs/stable/indexing.html#indexing-view-versus-copy\n",
      "  \"\"\"\n",
      "C:\\Users\\itiag\\Anaconda3\\lib\\site-packages\\ipykernel_launcher.py:6: SettingWithCopyWarning: \n",
      "A value is trying to be set on a copy of a slice from a DataFrame.\n",
      "Try using .loc[row_indexer,col_indexer] = value instead\n",
      "\n",
      "See the caveats in the documentation: http://pandas.pydata.org/pandas-docs/stable/indexing.html#indexing-view-versus-copy\n",
      "  \n"
     ]
    }
   ],
   "source": [
    "#Get the Departure and Arrival Hours\n",
    "#For DEP_HOUR, take the CRS_DEP_TIME\n",
    "df_delay['DEP_HOUR'] = df_delay['CRSDepTime'].apply(lambda x:int(str(x)[:2]) if x>999 else int(str(x)[:1] if x>99 else 0))\n",
    "#For ARR_HOUR, take the actual arrival time\n",
    "df_delay['ARR_HOUR'] = df_delay['ArrTime'].apply(lambda x:int(str(x)[:2]) if x>999 else int(str(x)[:1] if x>99 else 0))\n",
    "df_delay['ARR_HOUR'] = df_delay['ARR_HOUR'].apply(lambda x:0 if x==24 else x)"
   ]
  },
  {
   "cell_type": "code",
   "execution_count": 12,
   "metadata": {},
   "outputs": [
    {
     "data": {
      "text/plain": [
       "6488540"
      ]
     },
     "execution_count": 12,
     "metadata": {},
     "output_type": "execute_result"
    }
   ],
   "source": [
    "#Initial Data Exploration\n",
    "\n",
    "#Total number of flights in our dataset:\n",
    "len(df_delay.index)"
   ]
  },
  {
   "cell_type": "code",
   "execution_count": 21,
   "metadata": {},
   "outputs": [
    {
     "data": {
      "text/plain": [
       "17467.641095890413"
      ]
     },
     "execution_count": 21,
     "metadata": {},
     "output_type": "execute_result"
    }
   ],
   "source": [
    "#Average number of flights per day in 2003:\n",
    "len(df_delay.index)/365"
   ]
  },
  {
   "cell_type": "code",
   "execution_count": 22,
   "metadata": {},
   "outputs": [
    {
     "data": {
      "text/plain": [
       "0.15772899211363667"
      ]
     },
     "execution_count": 22,
     "metadata": {},
     "output_type": "execute_result"
    }
   ],
   "source": [
    "#Percent of flights with delays greater than 15 minutes:\n",
    "len(df_delay[df_delay['ArrDelay']>15].index)/len(df_delay.index)"
   ]
  },
  {
   "cell_type": "markdown",
   "metadata": {},
   "source": [
    "#Arrival Delay Visualizations\n",
    "#Visualize the ArrDelay for top 10 airlines\n",
    "\n",
    "#Get the list of the 10 biggest Airline Carriers\n",
    "top10_carrier = list(df_flight['UniqueCarrier'].value_counts().head(10).index)\n",
    "df_sub = df_flight[df_flight['UniqueCarrier'].isin(top10_carrier)][['UniqueCarrier','Origin','Dest','ArrDelay']]"
   ]
  },
  {
   "cell_type": "code",
   "execution_count": 24,
   "metadata": {},
   "outputs": [],
   "source": [
    "#Visualize the ArrDelay for top 10 airlines\n",
    "#Get the list of the 10 biggest Airline Carriers \n",
    "top10_carrier = list(df_delay['UniqueCarrier'].value_counts().head(10).index) \n",
    "df_sub = df_delay[df_delay['UniqueCarrier'].isin(top10_carrier)][['UniqueCarrier','Origin','Dest','ArrDelay']]"
   ]
  },
  {
   "cell_type": "code",
   "execution_count": 25,
   "metadata": {},
   "outputs": [],
   "source": [
    "#Read the Carrier Key CSV file for full names of the Airlines\n",
    "carrier_key = pd.read_csv('carriers.csv')\n",
    "\n",
    "#Merge with the dataframe containing the 10 biggest Airline Carriers\n",
    "df_sub = pd.merge(df_sub,carrier_key,how='left',left_on='UniqueCarrier', right_on='Code')"
   ]
  },
  {
   "cell_type": "code",
   "execution_count": 27,
   "metadata": {},
   "outputs": [],
   "source": [
    "#Create a copy of the dataframe for Violin plot. Delays greater than 30 minutes are clubbed to show the data at the same scale\n",
    "df_temp = df_sub.copy()\n",
    "#All delays greater than 30 minutes are clubbed at 30\n",
    "df_temp['ArrDelay'] = df_temp['ArrDelay'].apply(lambda x:30 if x>=30 else x)\n",
    "df_temp['ArrDelay'] = df_temp['ArrDelay'].apply(lambda x:-30 if x<=-30 else x)"
   ]
  },
  {
   "cell_type": "code",
   "execution_count": 29,
   "metadata": {},
   "outputs": [
    {
     "data": {
      "image/png": "[encoded data removed]",
      "text/plain": [
       "<Figure size 576x144 with 1 Axes>"
      ]
     },
     "metadata": {
      "needs_background": "light"
     },
     "output_type": "display_data"
    }
   ],
   "source": [
    "#Create the plot in seaborn\n",
    "plt.figure(figsize=(8, 2))\n",
    "g = sns.violinplot(x=\"Description\", y=\"ArrDelay\", data=df_temp,palette=\"coolwarm\")\n",
    "g.set_ylabel('Arrival Delay')\n",
    "g.set_xlabel('')\n",
    "label = g.set_xticklabels(g.get_xticklabels(), rotation=90)\n",
    "fig = g.get_figure()\n",
    "fig.savefig(\"delay_violin_plot.png\", bbox_inches='tight')"
   ]
  },
  {
   "cell_type": "code",
   "execution_count": 31,
   "metadata": {},
   "outputs": [],
   "source": [
    "#Plot percentage of flights delayed more than 30 minutes\n",
    "\n",
    "carrier_delay = pd.DataFrame()\n",
    "\n",
    "for UC in list(df_delay['UniqueCarrier'].unique()):\n",
    "    perc_delayed = len(df_delay[(df_delay['UniqueCarrier']==UC) & (df_delay['ArrDelay']>=30)].index)/len(df_delay[df_delay['UniqueCarrier']==UC].index)*100\n",
    "    carrier_delay = carrier_delay.append({'UniqueCarrier':UC,'percent_delayed' : perc_delayed},ignore_index=True)\n",
    "\n",
    "carrier_delay = pd.merge(carrier_delay,carrier_key,how='left',left_on='UniqueCarrier', right_on='Code')\n",
    "carrier_delay.drop(['UniqueCarrier','Code'],axis=1,inplace=True)\n",
    "carrier_delay.rename(index=str,columns={'Description':'Airline'},inplace=True)\n",
    "#Sort by percentage delayed\n",
    "carrier_delay.sort_values(by = ['percent_delayed'],ascending=False,inplace=True)"
   ]
  },
  {
   "cell_type": "code",
   "execution_count": 33,
   "metadata": {},
   "outputs": [
    {
     "data": {
      "image/png": "[encoded data removed]",
      "text/plain": [
       "<Figure size 432x288 with 1 Axes>"
      ]
     },
     "metadata": {
      "needs_background": "light"
     },
     "output_type": "display_data"
    }
   ],
   "source": [
    "color_pal = sns.color_palette(\"OrRd\", len(carrier_delay.index))\n",
    "color_pal = color_pal[::-1]\n",
    "\n",
    "plt.figure(figsize=(6, 4))\n",
    "g = sns.barplot(x=\"percent_delayed\", y=\"Airline\", data=carrier_delay)\n",
    "g.set_ylabel('')\n",
    "g.set_xlabel('Percentage of flights delayed more than 30 minutes')\n",
    "fig = g.get_figure()\n",
    "fig.savefig(\"carrier_delay.png\", bbox_inches='tight')"
   ]
  },
  {
   "cell_type": "code",
   "execution_count": 34,
   "metadata": {},
   "outputs": [
    {
     "data": {
      "text/html": [
       "<div>\n",
       "<style scoped>\n",
       "    .dataframe tbody tr th:only-of-type {\n",
       "        vertical-align: middle;\n",
       "    }\n",
       "\n",
       "    .dataframe tbody tr th {\n",
       "        vertical-align: top;\n",
       "    }\n",
       "\n",
       "    .dataframe thead th {\n",
       "        text-align: right;\n",
       "    }\n",
       "</style>\n",
       "<table border=\"1\" class=\"dataframe\">\n",
       "  <thead>\n",
       "    <tr style=\"text-align: right;\">\n",
       "      <th></th>\n",
       "      <th>percent_delayed</th>\n",
       "      <th>Airline</th>\n",
       "    </tr>\n",
       "  </thead>\n",
       "  <tbody>\n",
       "    <tr>\n",
       "      <th>16</th>\n",
       "      <td>14.215207</td>\n",
       "      <td>Independence Air</td>\n",
       "    </tr>\n",
       "    <tr>\n",
       "      <th>10</th>\n",
       "      <td>13.709152</td>\n",
       "      <td>AirTran Airways Corporation</td>\n",
       "    </tr>\n",
       "    <tr>\n",
       "      <th>9</th>\n",
       "      <td>12.980957</td>\n",
       "      <td>Atlantic Southeast Airlines</td>\n",
       "    </tr>\n",
       "    <tr>\n",
       "      <th>3</th>\n",
       "      <td>11.259285</td>\n",
       "      <td>American Eagle Airlines Inc.</td>\n",
       "    </tr>\n",
       "    <tr>\n",
       "      <th>7</th>\n",
       "      <td>10.651139</td>\n",
       "      <td>ATA Airlines d/b/a ATA</td>\n",
       "    </tr>\n",
       "    <tr>\n",
       "      <th>6</th>\n",
       "      <td>10.059234</td>\n",
       "      <td>Expressjet Airlines Inc.</td>\n",
       "    </tr>\n",
       "    <tr>\n",
       "      <th>1</th>\n",
       "      <td>9.977086</td>\n",
       "      <td>US Airways Inc. (Merged with America West 9/05...</td>\n",
       "    </tr>\n",
       "    <tr>\n",
       "      <th>12</th>\n",
       "      <td>9.709749</td>\n",
       "      <td>American Airlines Inc.</td>\n",
       "    </tr>\n",
       "    <tr>\n",
       "      <th>15</th>\n",
       "      <td>9.428267</td>\n",
       "      <td>Continental Air Lines Inc.</td>\n",
       "    </tr>\n",
       "    <tr>\n",
       "      <th>0</th>\n",
       "      <td>9.039276</td>\n",
       "      <td>United Air Lines Inc.</td>\n",
       "    </tr>\n",
       "    <tr>\n",
       "      <th>13</th>\n",
       "      <td>8.947221</td>\n",
       "      <td>Alaska Airlines Inc.</td>\n",
       "    </tr>\n",
       "    <tr>\n",
       "      <th>11</th>\n",
       "      <td>8.404622</td>\n",
       "      <td>America West Airlines Inc. (Merged with US Air...</td>\n",
       "    </tr>\n",
       "    <tr>\n",
       "      <th>8</th>\n",
       "      <td>8.138191</td>\n",
       "      <td>Delta Air Lines Inc.</td>\n",
       "    </tr>\n",
       "    <tr>\n",
       "      <th>4</th>\n",
       "      <td>7.922823</td>\n",
       "      <td>Northwest Airlines Inc.</td>\n",
       "    </tr>\n",
       "    <tr>\n",
       "      <th>14</th>\n",
       "      <td>7.479170</td>\n",
       "      <td>JetBlue Airways</td>\n",
       "    </tr>\n",
       "    <tr>\n",
       "      <th>2</th>\n",
       "      <td>6.783984</td>\n",
       "      <td>Southwest Airlines Co.</td>\n",
       "    </tr>\n",
       "    <tr>\n",
       "      <th>5</th>\n",
       "      <td>5.680646</td>\n",
       "      <td>Skywest Airlines Inc.</td>\n",
       "    </tr>\n",
       "    <tr>\n",
       "      <th>17</th>\n",
       "      <td>3.516427</td>\n",
       "      <td>Hawaiian Airlines Inc.</td>\n",
       "    </tr>\n",
       "  </tbody>\n",
       "</table>\n",
       "</div>"
      ],
      "text/plain": [
       "    percent_delayed                                            Airline\n",
       "16        14.215207                                   Independence Air\n",
       "10        13.709152                        AirTran Airways Corporation\n",
       "9         12.980957                        Atlantic Southeast Airlines\n",
       "3         11.259285                       American Eagle Airlines Inc.\n",
       "7         10.651139                             ATA Airlines d/b/a ATA\n",
       "6         10.059234                           Expressjet Airlines Inc.\n",
       "1          9.977086  US Airways Inc. (Merged with America West 9/05...\n",
       "12         9.709749                             American Airlines Inc.\n",
       "15         9.428267                         Continental Air Lines Inc.\n",
       "0          9.039276                              United Air Lines Inc.\n",
       "13         8.947221                               Alaska Airlines Inc.\n",
       "11         8.404622  America West Airlines Inc. (Merged with US Air...\n",
       "8          8.138191                               Delta Air Lines Inc.\n",
       "4          7.922823                            Northwest Airlines Inc.\n",
       "14         7.479170                                    JetBlue Airways\n",
       "2          6.783984                             Southwest Airlines Co.\n",
       "5          5.680646                              Skywest Airlines Inc.\n",
       "17         3.516427                             Hawaiian Airlines Inc."
      ]
     },
     "execution_count": 34,
     "metadata": {},
     "output_type": "execute_result"
    }
   ],
   "source": [
    "carrier_delay"
   ]
  }
 ],
 "metadata": {
  "celltoolbar": "Raw Cell Format",
  "kernelspec": {
   "display_name": "Python 3",
   "language": "python",
   "name": "python3"
  },
  "language_info": {
   "codemirror_mode": {
    "name": "ipython",
    "version": 3
   },
   "file_extension": ".py",
   "mimetype": "text/x-python",
   "name": "python",
   "nbconvert_exporter": "python",
   "pygments_lexer": "ipython3",
   "version": "3.7.3"
  }
 },
 "nbformat": 4,
 "nbformat_minor": 2
}
