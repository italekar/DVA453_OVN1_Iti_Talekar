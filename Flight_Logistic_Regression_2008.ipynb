{
 "cells": [
  {
   "cell_type": "code",
   "execution_count": 1,
   "metadata": {},
   "outputs": [],
   "source": [
    "import pyspark\n",
    "sc = pyspark.SparkContext()"
   ]
  },
  {
   "cell_type": "code",
   "execution_count": 2,
   "metadata": {},
   "outputs": [
    {
     "name": "stdout",
     "output_type": "stream",
     "text": [
      "<pyspark.sql.session.SparkSession object at 0x000001EC6DB07908>\n"
     ]
    }
   ],
   "source": [
    "from pyspark.sql import SparkSession\n",
    "my_spark = SparkSession.builder.getOrCreate()\n",
    "print(my_spark)"
   ]
  },
  {
   "cell_type": "code",
   "execution_count": 3,
   "metadata": {},
   "outputs": [],
   "source": [
    "from pyspark.ml.classification import LogisticRegression"
   ]
  },
  {
   "cell_type": "code",
   "execution_count": 4,
   "metadata": {},
   "outputs": [],
   "source": [
    "input_data = my_spark.read.csv(\"file:///C:/Machine Learning/AirLine Assignment/2008.csv\", inferSchema =True, header = True)"
   ]
  },
  {
   "cell_type": "code",
   "execution_count": 5,
   "metadata": {},
   "outputs": [
    {
     "data": {
      "text/plain": [
       "[Row(Year=2008, Month=1, DayofMonth=3, DayOfWeek=4, CRSDepTime=1955, ArrDelay='-14', Distance=810, Cancelled=0),\n",
       " Row(Year=2008, Month=1, DayofMonth=3, DayOfWeek=4, CRSDepTime=735, ArrDelay='2', Distance=810, Cancelled=0),\n",
       " Row(Year=2008, Month=1, DayofMonth=3, DayOfWeek=4, CRSDepTime=620, ArrDelay='14', Distance=515, Cancelled=0),\n",
       " Row(Year=2008, Month=1, DayofMonth=3, DayOfWeek=4, CRSDepTime=930, ArrDelay='-6', Distance=515, Cancelled=0),\n",
       " Row(Year=2008, Month=1, DayofMonth=3, DayOfWeek=4, CRSDepTime=1755, ArrDelay='34', Distance=515, Cancelled=0)]"
      ]
     },
     "execution_count": 5,
     "metadata": {},
     "output_type": "execute_result"
    }
   ],
   "source": [
    "# Filter out unimportant columns\n",
    "\n",
    "input_data = input_data[['Year',\n",
    " 'Month',\n",
    " 'DayofMonth',\n",
    " 'DayOfWeek',\n",
    " 'CRSDepTime',\n",
    " 'ArrDelay',\n",
    " 'Distance',\n",
    " 'Cancelled']]\n",
    "\n",
    "input_data.head(5)"
   ]
  },
  {
   "cell_type": "code",
   "execution_count": 6,
   "metadata": {},
   "outputs": [
    {
     "data": {
      "text/plain": [
       "<bound method DataFrame.describe of DataFrame[Year: int, Month: int, DayofMonth: int, DayOfWeek: int, CRSDepTime: int, ArrDelay: string, Distance: int, Cancelled: int]>"
      ]
     },
     "execution_count": 6,
     "metadata": {},
     "output_type": "execute_result"
    }
   ],
   "source": [
    "input_data.describe"
   ]
  },
  {
   "cell_type": "code",
   "execution_count": 7,
   "metadata": {},
   "outputs": [
    {
     "data": {
      "text/plain": [
       "7009728"
      ]
     },
     "execution_count": 7,
     "metadata": {},
     "output_type": "execute_result"
    }
   ],
   "source": [
    "# to drop all rows with null value\n",
    "input_data.dropna().count()"
   ]
  },
  {
   "cell_type": "code",
   "execution_count": 8,
   "metadata": {},
   "outputs": [],
   "source": [
    "# Assign outcome as 0 if ArrDelay <=10 or null and as 1 if ArrDelay >10\n",
    "from pyspark.sql import functions\n",
    "input_data = input_data.withColumn('ArrDelay',functions.when(input_data['ArrDelay']>= 10 ,1).otherwise(0))"
   ]
  },
  {
   "cell_type": "code",
   "execution_count": 9,
   "metadata": {},
   "outputs": [],
   "source": [
    "from pyspark.ml.linalg import Vectors\n",
    "from pyspark.ml.feature import VectorAssembler"
   ]
  },
  {
   "cell_type": "code",
   "execution_count": 10,
   "metadata": {},
   "outputs": [],
   "source": [
    "assembler = VectorAssembler(inputCols=['Year',\n",
    " 'Month',\n",
    " 'DayofMonth',\n",
    " 'DayOfWeek',\n",
    " 'CRSDepTime',\n",
    " 'ArrDelay',\n",
    " 'Distance'],outputCol='features')"
   ]
  },
  {
   "cell_type": "code",
   "execution_count": 11,
   "metadata": {},
   "outputs": [],
   "source": [
    "output_data=assembler.transform(input_data)"
   ]
  },
  {
   "cell_type": "code",
   "execution_count": 12,
   "metadata": {},
   "outputs": [
    {
     "data": {
      "text/plain": [
       "Row(Year=2008, Month=1, DayofMonth=3, DayOfWeek=4, CRSDepTime=1955, ArrDelay=0, Distance=810, Cancelled=0, features=DenseVector([2008.0, 1.0, 3.0, 4.0, 1955.0, 0.0, 810.0]))"
      ]
     },
     "execution_count": 12,
     "metadata": {},
     "output_type": "execute_result"
    }
   ],
   "source": [
    "output_data.head()"
   ]
  },
  {
   "cell_type": "code",
   "execution_count": 13,
   "metadata": {},
   "outputs": [
    {
     "name": "stdout",
     "output_type": "stream",
     "text": [
      "root\n",
      " |-- features: vector (nullable = true)\n",
      " |-- ArrDelay: integer (nullable = false)\n",
      "\n"
     ]
    }
   ],
   "source": [
    "final_data=output_data.select('features','ArrDelay')\n",
    "final_data.printSchema()"
   ]
  },
  {
   "cell_type": "code",
   "execution_count": 14,
   "metadata": {},
   "outputs": [],
   "source": [
    "train,test=final_data.randomSplit([0.8,0.2])"
   ]
  },
  {
   "cell_type": "code",
   "execution_count": 15,
   "metadata": {},
   "outputs": [],
   "source": [
    "model=LogisticRegression(labelCol='ArrDelay')"
   ]
  },
  {
   "cell_type": "code",
   "execution_count": 22,
   "metadata": {},
   "outputs": [],
   "source": [
    "model1=LogisticRegression(labelCol='ArrDelay')\n",
    "model1=model1.fit(final_data)"
   ]
  },
  {
   "cell_type": "code",
   "execution_count": 23,
   "metadata": {},
   "outputs": [],
   "source": [
    "assembler = VectorAssembler(inputCols=[\n",
    " 'ArrDelay'],outputCol='feature')\n",
    "test_data=assembler.transform(final_data)"
   ]
  },
  {
   "cell_type": "code",
   "execution_count": 24,
   "metadata": {},
   "outputs": [
    {
     "name": "stdout",
     "output_type": "stream",
     "text": [
      "+--------------------+--------+-------+--------------------+--------------------+----------+\n",
      "|            features|ArrDelay|feature|       rawPrediction|         probability|prediction|\n",
      "+--------------------+--------+-------+--------------------+--------------------+----------+\n",
      "|[2008.0,1.0,3.0,4...|       0|  [0.0]|[20.9724320664647...|[0.99999999922054...|       0.0|\n",
      "|[2008.0,1.0,3.0,4...|       0|  [0.0]|[16.0243696840269...|[0.99999989017413...|       0.0|\n",
      "|[2008.0,1.0,3.0,4...|       1|  [1.0]|[-30.084938936953...|[8.59561650818520...|       1.0|\n",
      "|[2008.0,1.0,3.0,4...|       0|  [0.0]|[16.5818305107937...|[0.99999993710697...|       0.0|\n",
      "|[2008.0,1.0,3.0,4...|       1|  [1.0]|[-25.481618605750...|[8.57973056365359...|       1.0|\n",
      "|[2008.0,1.0,3.0,4...|       1|  [1.0]|[-24.695806583452...|[1.88255413916576...|       1.0|\n",
      "|[2008.0,1.0,3.0,4...|       1|  [1.0]|[-24.326052190687...|[2.72476948593553...|       1.0|\n",
      "|[2008.0,1.0,3.0,4...|       0|  [0.0]|[17.8793495351892...|[0.99999998281707...|       0.0|\n",
      "|[2008.0,1.0,3.0,4...|       0|  [0.0]|[15.2536171902410...|[0.99999976262328...|       0.0|\n",
      "|[2008.0,1.0,3.0,4...|       0|  [0.0]|[19.3296849724951...|[0.99999999597074...|       0.0|\n",
      "|[2008.0,1.0,3.0,4...|       0|  [0.0]|[15.8966595287279...|[0.99999987521326...|       0.0|\n",
      "|[2008.0,1.0,3.0,4...|       1|  [1.0]|[-26.227626420387...|[4.06898952851307...|       1.0|\n",
      "|[2008.0,1.0,3.0,4...|       0|  [0.0]|[18.3304145812850...|[0.99999998905534...|       0.0|\n",
      "|[2008.0,1.0,3.0,4...|       1|  [1.0]|[-29.978949345877...|[9.55669500042658...|       1.0|\n",
      "|[2008.0,1.0,3.0,4...|       0|  [0.0]|[19.4254775675622...|[0.99999999633880...|       0.0|\n",
      "|[2008.0,1.0,3.0,4...|       1|  [1.0]|[-28.741933750268...|[3.29258331453603...|       1.0|\n",
      "|[2008.0,1.0,3.0,4...|       1|  [1.0]|[-26.049353909624...|[4.86305677525915...|       1.0|\n",
      "|[2008.0,1.0,3.0,4...|       0|  [0.0]|[16.6021845884388...|[0.99999993837416...|       0.0|\n",
      "|[2008.0,1.0,3.0,4...|       1|  [1.0]|[-27.253940099630...|[1.45802242816342...|       1.0|\n",
      "|[2008.0,1.0,3.0,4...|       1|  [1.0]|[-27.459025802773...|[1.18767226676325...|       1.0|\n",
      "+--------------------+--------+-------+--------------------+--------------------+----------+\n",
      "only showing top 20 rows\n",
      "\n"
     ]
    }
   ],
   "source": [
    "result1=model1.transform(test_data)\n",
    "result1.show()"
   ]
  },
  {
   "cell_type": "code",
   "execution_count": 25,
   "metadata": {},
   "outputs": [],
   "source": [
    "model=model.fit(train)"
   ]
  },
  {
   "cell_type": "code",
   "execution_count": 26,
   "metadata": {},
   "outputs": [],
   "source": [
    "summary=model.summary"
   ]
  },
  {
   "cell_type": "code",
   "execution_count": 27,
   "metadata": {},
   "outputs": [
    {
     "name": "stdout",
     "output_type": "stream",
     "text": [
      "+-------+-------------------+-------------------+\n",
      "|summary|           ArrDelay|         prediction|\n",
      "+-------+-------------------+-------------------+\n",
      "|  count|            5607761|            5607761|\n",
      "|   mean|0.26903749999331283|0.26903749999331283|\n",
      "| stddev| 0.4434595344101488| 0.4434595344101488|\n",
      "|    min|                0.0|                0.0|\n",
      "|    max|                1.0|                1.0|\n",
      "+-------+-------------------+-------------------+\n",
      "\n"
     ]
    }
   ],
   "source": [
    "summary.predictions.describe().show()"
   ]
  },
  {
   "cell_type": "code",
   "execution_count": 28,
   "metadata": {},
   "outputs": [],
   "source": [
    "from pyspark.ml.evaluation import BinaryClassificationEvaluator"
   ]
  },
  {
   "cell_type": "code",
   "execution_count": 29,
   "metadata": {},
   "outputs": [],
   "source": [
    "predictions=model.evaluate(test)"
   ]
  },
  {
   "cell_type": "code",
   "execution_count": 30,
   "metadata": {},
   "outputs": [
    {
     "name": "stdout",
     "output_type": "stream",
     "text": [
      "+--------------------+--------+--------------------+--------------------+----------+\n",
      "|            features|ArrDelay|       rawPrediction|         probability|prediction|\n",
      "+--------------------+--------+--------------------+--------------------+----------+\n",
      "|[2008.0,1.0,1.0,2...|       1|[-33.427425825565...|[3.03845927450332...|       1.0|\n",
      "|[2008.0,1.0,1.0,2...|       1|[-33.392873750581...|[3.14527914427247...|       1.0|\n",
      "|[2008.0,1.0,1.0,2...|       0|[12.4774734266907...|[0.99999618845995...|       0.0|\n",
      "|[2008.0,1.0,1.0,2...|       1|[-33.241432450267...|[3.65956374386239...|       1.0|\n",
      "|[2008.0,1.0,1.0,2...|       0|[12.0910652664074...|[0.99999439062288...|       0.0|\n",
      "|[2008.0,1.0,1.0,2...|       0|[12.3252387144962...|[0.99999556171782...|       0.0|\n",
      "|[2008.0,1.0,1.0,2...|       1|[-33.237475641935...|[3.67407262166951...|       1.0|\n",
      "|[2008.0,1.0,1.0,2...|       1|[-32.049423825408...|[1.20534698097325...|       1.0|\n",
      "|[2008.0,1.0,1.0,2...|       0|[13.2781029467924...|[0.99999828843886...|       0.0|\n",
      "|[2008.0,1.0,1.0,2...|       1|[-32.479258314155...|[7.84218959742828...|       1.0|\n",
      "|[2008.0,1.0,1.0,2...|       0|[12.8710518740604...|[0.99999742858556...|       0.0|\n",
      "|[2008.0,1.0,1.0,2...|       0|[13.8005116289321...|[0.99999898488905...|       0.0|\n",
      "|[2008.0,1.0,1.0,2...|       1|[-32.536714578993...|[7.40430668896379...|       1.0|\n",
      "|[2008.0,1.0,1.0,2...|       1|[-31.491666132288...|[2.10544147003568...|       1.0|\n",
      "|[2008.0,1.0,1.0,2...|       0|[12.9506741247106...|[0.99999762538799...|       0.0|\n",
      "|[2008.0,1.0,1.0,2...|       0|[12.9855090729341...|[0.99999770668311...|       0.0|\n",
      "|[2008.0,1.0,1.0,2...|       0|[13.8426409480131...|[0.99999902676661...|       0.0|\n",
      "|[2008.0,1.0,1.0,2...|       0|[13.3142919278403...|[0.99999834927104...|       0.0|\n",
      "|[2008.0,1.0,1.0,2...|       1|[-31.401525780955...|[2.30404326521097...|       1.0|\n",
      "|[2008.0,1.0,1.0,2...|       0|[13.4090134588465...|[0.99999849845346...|       0.0|\n",
      "+--------------------+--------+--------------------+--------------------+----------+\n",
      "only showing top 20 rows\n",
      "\n"
     ]
    }
   ],
   "source": [
    "predictions.predictions.show()"
   ]
  },
  {
   "cell_type": "code",
   "execution_count": 31,
   "metadata": {},
   "outputs": [],
   "source": [
    "evaluator=BinaryClassificationEvaluator(rawPredictionCol='prediction',labelCol='ArrDelay')"
   ]
  },
  {
   "cell_type": "code",
   "execution_count": 32,
   "metadata": {},
   "outputs": [
    {
     "data": {
      "text/plain": [
       "1.0"
      ]
     },
     "execution_count": 32,
     "metadata": {},
     "output_type": "execute_result"
    }
   ],
   "source": [
    "evaluator.evaluate(predictions.predictions)"
   ]
  },
  {
   "cell_type": "code",
   "execution_count": 33,
   "metadata": {},
   "outputs": [
    {
     "data": {
      "text/plain": [
       "<Figure size 640x480 with 1 Axes>"
      ]
     },
     "metadata": {},
     "output_type": "display_data"
    }
   ],
   "source": [
    "import matplotlib.pyplot as plt\n",
    "import numpy as np\n",
    "beta = np.sort(model.coefficients)\n",
    "plt.plot(beta)\n",
    "plt.ylabel('Beta Coefficients')\n",
    "plt.show()"
   ]
  },
  {
   "cell_type": "code",
   "execution_count": 34,
   "metadata": {},
   "outputs": [
    {
     "data": {
      "image/png": "[encoded data removed]",
      "text/plain": [
       "<Figure size 432x288 with 1 Axes>"
      ]
     },
     "metadata": {
      "needs_background": "light"
     },
     "output_type": "display_data"
    },
    {
     "name": "stdout",
     "output_type": "stream",
     "text": [
      "Training set areaUnderROC: 0.9999527262533925\n"
     ]
    }
   ],
   "source": [
    "# receiver-operating characteristic and areaUnderROC\n",
    "import pandas as pd\n",
    "trainingSummary = model.summary\n",
    "roc = trainingSummary.roc.toPandas()\n",
    "plt.plot(roc['FPR'],roc['TPR'])\n",
    "plt.ylabel('False Positive Rate')\n",
    "plt.xlabel('True Positive Rate')\n",
    "plt.title('ROC Curve')\n",
    "plt.show()\n",
    "print('Training set areaUnderROC: ' + str(trainingSummary.areaUnderROC))"
   ]
  },
  {
   "cell_type": "code",
   "execution_count": 35,
   "metadata": {},
   "outputs": [
    {
     "data": {
      "image/png": "[encoded data removed]",
      "text/plain": [
       "<Figure size 432x288 with 1 Axes>"
      ]
     },
     "metadata": {
      "needs_background": "light"
     },
     "output_type": "display_data"
    }
   ],
   "source": [
    "# Precision and recall\n",
    "pr = trainingSummary.pr.toPandas()\n",
    "plt.plot(pr['recall'],pr['precision'])\n",
    "plt.ylabel('Precision')\n",
    "plt.xlabel('Recall')\n",
    "plt.show()"
   ]
  }
 ],
 "metadata": {
  "kernelspec": {
   "display_name": "Python 3",
   "language": "python",
   "name": "python3"
  },
  "language_info": {
   "codemirror_mode": {
    "name": "ipython",
    "version": 3
   },
   "file_extension": ".py",
   "mimetype": "text/x-python",
   "name": "python",
   "nbconvert_exporter": "python",
   "pygments_lexer": "ipython3",
   "version": "3.7.3"
  }
 },
 "nbformat": 4,
 "nbformat_minor": 2
}
