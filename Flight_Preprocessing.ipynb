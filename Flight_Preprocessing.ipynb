{
 "cells": [
  {
   "cell_type": "code",
   "execution_count": 2,
   "metadata": {},
   "outputs": [
    {
     "name": "stdout",
     "output_type": "stream",
     "text": [
      "         Year  Month  DayofMonth  DayOfWeek  DepTime  CRSDepTime  ArrTime  \\\n",
      "0        2007      1           1          1   1232.0        1225   1341.0   \n",
      "1        2007      1           1          1   1918.0        1905   2043.0   \n",
      "2        2007      1           1          1   2206.0        2130   2334.0   \n",
      "3        2007      1           1          1   1230.0        1200   1356.0   \n",
      "4        2007      1           1          1    831.0         830    957.0   \n",
      "5        2007      1           1          1   1430.0        1420   1553.0   \n",
      "6        2007      1           1          1   1936.0        1840   2217.0   \n",
      "7        2007      1           1          1    944.0         935   1223.0   \n",
      "8        2007      1           1          1   1537.0        1450   1819.0   \n",
      "9        2007      1           1          1   1318.0        1315   1603.0   \n",
      "10       2007      1           1          1    836.0         835   1119.0   \n",
      "11       2007      1           1          1   2047.0        1955   2332.0   \n",
      "12       2007      1           1          1   2128.0        2035   2245.0   \n",
      "13       2007      1           1          1    935.0         940   1048.0   \n",
      "14       2007      1           1          1   1251.0        1245   1405.0   \n",
      "15       2007      1           1          1   1729.0        1645   1843.0   \n",
      "16       2007      1           1          1    825.0         825    941.0   \n",
      "17       2007      1           1          1   1042.0        1040   1158.0   \n",
      "18       2007      1           1          1   1726.0        1725   1839.0   \n",
      "19       2007      1           1          1   1849.0        1820   2016.0   \n",
      "20       2007      1           1          1   2219.0        2105   2332.0   \n",
      "21       2007      1           1          1   2012.0        1940   2131.0   \n",
      "22       2007      1           1          1   1458.0        1455   1614.0   \n",
      "23       2007      1           1          1   1345.0        1345   1456.0   \n",
      "24       2007      1           1          1    715.0         720    836.0   \n",
      "25       2007      1           1          1   2119.0        2100   2310.0   \n",
      "26       2007      1           1          1   1530.0        1510   1714.0   \n",
      "27       2007      1           1          1   1045.0        1035   1240.0   \n",
      "28       2007      1           1          1    802.0         800    953.0   \n",
      "29       2007      1           1          1   1415.0        1405   1529.0   \n",
      "...       ...    ...         ...        ...      ...         ...      ...   \n",
      "7453185  2007     12          15          6    856.0         900   1602.0   \n",
      "7453186  2007     12          15          6    753.0         750   1317.0   \n",
      "7453187  2007     12          15          6   1931.0        1915   2054.0   \n",
      "7453188  2007     12          15          6   1646.0        1650   1938.0   \n",
      "7453189  2007     12          15          6    918.0         850   1151.0   \n",
      "7453190  2007     12          15          6   1614.0        1436   1902.0   \n",
      "7453191  2007     12          15          6    753.0         800   1454.0   \n",
      "7453192  2007     12          15          6   1608.0        1520   1742.0   \n",
      "7453193  2007     12          15          6   1711.0        1645   2005.0   \n",
      "7453194  2007     12          15          6   1158.0        1200   1328.0   \n",
      "7453195  2007     12          15          6    704.0         700   1514.0   \n",
      "7453196  2007     12          15          6   1632.0        1620   2015.0   \n",
      "7453197  2007     12          15          6   1318.0        1305   1505.0   \n",
      "7453198  2007     12          15          6   1212.0        1134   1934.0   \n",
      "7453199  2007     12          15          6      NaN        1705      NaN   \n",
      "7453200  2007     12          15          6   1102.0        1050   1549.0   \n",
      "7453201  2007     12          15          6   1844.0        1800   2010.0   \n",
      "7453202  2007     12          15          6   1445.0        1445   1723.0   \n",
      "7453203  2007     12          15          6   1849.0        1850   2054.0   \n",
      "7453204  2007     12          15          6   1158.0        1143   1932.0   \n",
      "7453205  2007     12          15          6    612.0         615   1342.0   \n",
      "7453206  2007     12          15          6   1940.0        1855   2153.0   \n",
      "7453207  2007     12          15          6   1341.0        1335   1856.0   \n",
      "7453208  2007     12          15          6   1646.0        1645   1827.0   \n",
      "7453209  2007     12          15          6    729.0         730    918.0   \n",
      "7453210  2007     12          15          6   1558.0        1605   1749.0   \n",
      "7453211  2007     12          15          6   1902.0        1851   2110.0   \n",
      "7453212  2007     12          15          6   1024.0        1025   1750.0   \n",
      "7453213  2007     12          15          6   1353.0        1315   1658.0   \n",
      "7453214  2007     12          15          6   1824.0        1800   2001.0   \n",
      "\n",
      "         CRSArrTime UniqueCarrier  FlightNum  ... TaxiIn  TaxiOut  Cancelled  \\\n",
      "0              1340            WN       2891  ...      4       11          0   \n",
      "1              2035            WN        462  ...      5        6          0   \n",
      "2              2300            WN       1229  ...      6        9          0   \n",
      "3              1330            WN       1355  ...      3        8          0   \n",
      "4              1000            WN       2278  ...      3        9          0   \n",
      "5              1550            WN       2386  ...      2        7          0   \n",
      "6              2130            WN        409  ...      5        7          0   \n",
      "7              1225            WN       1131  ...      4        9          0   \n",
      "8              1735            WN       1212  ...      5        7          0   \n",
      "9              1610            WN       2456  ...      5        8          0   \n",
      "10             1130            WN       2575  ...      7        8          0   \n",
      "11             2240            WN       2608  ...      7        9          0   \n",
      "12             2200            WN        139  ...      3        8          0   \n",
      "13             1105            WN        747  ...      2        8          0   \n",
      "14             1410            WN        933  ...      2        7          0   \n",
      "15             1810            WN       1054  ...      3        7          0   \n",
      "16              950            WN       1106  ...      3       10          0   \n",
      "17             1205            WN       1554  ...      2        8          0   \n",
      "18             1850            WN       1604  ...      3        7          0   \n",
      "19             1940            WN       1975  ...      3       15          0   \n",
      "20             2225            WN       2083  ...      3        8          0   \n",
      "21             2105            WN       2577  ...      3       10          0   \n",
      "22             1620            WN       2587  ...      2        9          0   \n",
      "23             1510            WN       2643  ...      2        7          0   \n",
      "24              845            WN       2755  ...      2       14          0   \n",
      "25             2250            WN        961  ...      9        8          0   \n",
      "26             1700            WN       1330  ...      5        8          0   \n",
      "27             1225            WN       1502  ...      5        6          0   \n",
      "28              955            WN       2403  ...      5        8          0   \n",
      "29             1525            WN        976  ...      4        6          0   \n",
      "...             ...           ...        ...  ...    ...      ...        ...   \n",
      "7453185        1610            DL         12  ...     17       14          0   \n",
      "7453186        1323            DL         14  ...      9       17          0   \n",
      "7453187        2042            DL         15  ...      5       16          0   \n",
      "7453188        1920            DL         16  ...     46       28          0   \n",
      "7453189        1140            DL         17  ...      6       26          0   \n",
      "7453190        1609            DL         20  ...     11       60          0   \n",
      "7453191        1447            DL         22  ...     14       22          0   \n",
      "7453192        1706            DL         25  ...      4       23          0   \n",
      "7453193        1900            DL         27  ...      7       56          0   \n",
      "7453194        1326            DL         28  ...     12       10          0   \n",
      "7453195        1521            DL         30  ...      8       21          0   \n",
      "7453196        1955            DL         31  ...      8       54          0   \n",
      "7453197        1432            DL         34  ...     12       19          0   \n",
      "7453198        1854            DL         36  ...      7       17          0   \n",
      "7453199        1903            DL         37  ...      0        0          1   \n",
      "7453200        1542            DL         38  ...     11       15          0   \n",
      "7453201        1922            DL         39  ...      8       25          0   \n",
      "7453202        1642            DL         40  ...     11       25          0   \n",
      "7453203        2053            DL         41  ...      7       29          0   \n",
      "7453204        1855            DL         44  ...      7       45          0   \n",
      "7453205        1348            DL         46  ...     11       21          0   \n",
      "7453206        2129            DL         47  ...     10       12          0   \n",
      "7453207        1855            DL         48  ...      8       13          0   \n",
      "7453208        1836            DL         49  ...      6       13          0   \n",
      "7453209         909            DL         55  ...     13       16          0   \n",
      "7453210        1736            DL         58  ...     14       17          0   \n",
      "7453211        2105            DL         59  ...      6       21          0   \n",
      "7453212        1735            DL         61  ...     14       19          0   \n",
      "7453213        1622            DL         62  ...     11       14          0   \n",
      "7453214        1928            DL         63  ...     10       26          0   \n",
      "\n",
      "         CancellationCode  Diverted  CarrierDelay WeatherDelay NASDelay  \\\n",
      "0                     NaN         0             0            0        0   \n",
      "1                     NaN         0             0            0        0   \n",
      "2                     NaN         0             3            0        0   \n",
      "3                     NaN         0            23            0        0   \n",
      "4                     NaN         0             0            0        0   \n",
      "5                     NaN         0             0            0        0   \n",
      "6                     NaN         0            46            0        0   \n",
      "7                     NaN         0             0            0        0   \n",
      "8                     NaN         0            20            0        0   \n",
      "9                     NaN         0             0            0        0   \n",
      "10                    NaN         0             0            0        0   \n",
      "11                    NaN         0            49            0        0   \n",
      "12                    NaN         0             0            0        3   \n",
      "13                    NaN         0             0            0        0   \n",
      "14                    NaN         0             0            0        0   \n",
      "15                    NaN         0             3            0        0   \n",
      "16                    NaN         0             0            0        0   \n",
      "17                    NaN         0             0            0        0   \n",
      "18                    NaN         0             0            0        0   \n",
      "19                    NaN         0            20            0        7   \n",
      "20                    NaN         0             0            0        0   \n",
      "21                    NaN         0             9            0        0   \n",
      "22                    NaN         0             0            0        0   \n",
      "23                    NaN         0             0            0        0   \n",
      "24                    NaN         0             0            0        0   \n",
      "25                    NaN         0            19            0        1   \n",
      "26                    NaN         0             0            0        0   \n",
      "27                    NaN         0             6            0        5   \n",
      "28                    NaN         0             0            0        0   \n",
      "29                    NaN         0             0            0        0   \n",
      "...                   ...       ...           ...          ...      ...   \n",
      "7453185               NaN         0             0            0        0   \n",
      "7453186               NaN         0             0            0        0   \n",
      "7453187               NaN         0             0            0        0   \n",
      "7453188               NaN         0             0            0       18   \n",
      "7453189               NaN         0             0            0        0   \n",
      "7453190               NaN         0             0            0       75   \n",
      "7453191               NaN         0             0            0        0   \n",
      "7453192               NaN         0             0            0        0   \n",
      "7453193               NaN         0             0           26       39   \n",
      "7453194               NaN         0             0            0        0   \n",
      "7453195               NaN         0             0            0        0   \n",
      "7453196               NaN         0             5            0        8   \n",
      "7453197               NaN         0             9            0       20   \n",
      "7453198               NaN         0             0            0        2   \n",
      "7453199                 B         0             0            0        0   \n",
      "7453200               NaN         0             0            0        0   \n",
      "7453201               NaN         0             0           44        4   \n",
      "7453202               NaN         0             0            0       41   \n",
      "7453203               NaN         0             0            0        0   \n",
      "7453204               NaN         0             0            0       22   \n",
      "7453205               NaN         0             0            0        0   \n",
      "7453206               NaN         0             0           24        0   \n",
      "7453207               NaN         0             0            0        0   \n",
      "7453208               NaN         0             0            0        0   \n",
      "7453209               NaN         0             0            0        0   \n",
      "7453210               NaN         0             0            0        0   \n",
      "7453211               NaN         0             0            0        0   \n",
      "7453212               NaN         0             0            0       15   \n",
      "7453213               NaN         0             0            0        0   \n",
      "7453214               NaN         0            24            0        9   \n",
      "\n",
      "         SecurityDelay  LateAircraftDelay  \n",
      "0                    0                  0  \n",
      "1                    0                  0  \n",
      "2                    0                 31  \n",
      "3                    0                  3  \n",
      "4                    0                  0  \n",
      "5                    0                  0  \n",
      "6                    0                  1  \n",
      "7                    0                  0  \n",
      "8                    0                 24  \n",
      "9                    0                  0  \n",
      "10                   0                  0  \n",
      "11                   0                  3  \n",
      "12                   0                 42  \n",
      "13                   0                  0  \n",
      "14                   0                  0  \n",
      "15                   0                 30  \n",
      "16                   0                  0  \n",
      "17                   0                  0  \n",
      "18                   0                  0  \n",
      "19                   0                  9  \n",
      "20                   0                 67  \n",
      "21                   0                 17  \n",
      "22                   0                  0  \n",
      "23                   0                  0  \n",
      "24                   0                  0  \n",
      "25                   0                  0  \n",
      "26                   0                  0  \n",
      "27                   0                  4  \n",
      "28                   0                  0  \n",
      "29                   0                  0  \n",
      "...                ...                ...  \n",
      "7453185              0                  0  \n",
      "7453186              0                  0  \n",
      "7453187              0                  0  \n",
      "7453188              0                  0  \n",
      "7453189              0                  0  \n",
      "7453190              0                 98  \n",
      "7453191              0                  0  \n",
      "7453192              0                 36  \n",
      "7453193              0                  0  \n",
      "7453194              0                  0  \n",
      "7453195              0                  0  \n",
      "7453196              0                  7  \n",
      "7453197              0                  4  \n",
      "7453198              0                 38  \n",
      "7453199              0                  0  \n",
      "7453200              0                  0  \n",
      "7453201              0                  0  \n",
      "7453202              0                  0  \n",
      "7453203              0                  0  \n",
      "7453204              0                 15  \n",
      "7453205              0                  0  \n",
      "7453206              0                  0  \n",
      "7453207              0                  0  \n",
      "7453208              0                  0  \n",
      "7453209              0                  0  \n",
      "7453210              0                  0  \n",
      "7453211              0                  0  \n",
      "7453212              0                  0  \n",
      "7453213              0                 36  \n",
      "7453214              0                  0  \n",
      "\n",
      "[7453215 rows x 29 columns]\n"
     ]
    }
   ],
   "source": [
    "# Import data and take a look\n",
    "import numpy as np\n",
    "import pandas as pd\n",
    "\n",
    "#df_flight = pd.read_csv(\"2007.csv\", chunksize=2000000)\n",
    "df_flight = pd.read_csv(\"2007.csv\")\n",
    "print(df_flight)"
   ]
  },
  {
   "cell_type": "code",
   "execution_count": 3,
   "metadata": {},
   "outputs": [],
   "source": [
    "# Filter out unimportant columns\n",
    "\n",
    "df_flight = df_flight[['Year',\n",
    " 'Month',\n",
    " 'DayofMonth',\n",
    " 'DayOfWeek',\n",
    "# 'DepTime',\n",
    " 'CRSDepTime',\n",
    "# 'ArrTime',\n",
    " 'CRSArrTime',\n",
    "# 'UniqueCarrier',\n",
    " 'FlightNum',\n",
    "# 'TailNum',\n",
    "# 'ActualElapsedTime',\n",
    "# 'CRSElapsedTime',\n",
    "# 'AirTime',\n",
    "# 'ArrDelay',\n",
    "# 'DepDelay',\n",
    "# 'Origin',\n",
    "# 'Dest',\n",
    " 'Distance',\n",
    "#  'TaxiIn',\n",
    "#  'TaxiOut',\n",
    " 'Cancelled']]\n",
    "# 'CancellationCode',\n",
    "# 'Diverted']]\n",
    "# 'CarrierDelay',\n",
    "# 'WeatherDelay',\n",
    "# 'NASDelay',\n",
    "# 'SecurityDelay',\n",
    "# 'LateAircraftDelay'"
   ]
  },
  {
   "cell_type": "code",
   "execution_count": 4,
   "metadata": {},
   "outputs": [
    {
     "data": {
      "text/plain": [
       "Year          int64\n",
       "Month         int64\n",
       "DayofMonth    int64\n",
       "DayOfWeek     int64\n",
       "CRSDepTime    int64\n",
       "CRSArrTime    int64\n",
       "FlightNum     int64\n",
       "Distance      int64\n",
       "Cancelled     int64\n",
       "dtype: object"
      ]
     },
     "execution_count": 4,
     "metadata": {},
     "output_type": "execute_result"
    }
   ],
   "source": [
    "df_flight.dtypes"
   ]
  },
  {
   "cell_type": "code",
   "execution_count": 5,
   "metadata": {},
   "outputs": [
    {
     "data": {
      "text/plain": [
       "Cancelled     0\n",
       "Distance      0\n",
       "FlightNum     0\n",
       "CRSArrTime    0\n",
       "CRSDepTime    0\n",
       "dtype: int64"
      ]
     },
     "execution_count": 5,
     "metadata": {},
     "output_type": "execute_result"
    }
   ],
   "source": [
    "# How much of your data is missing?\n",
    "df_flight.isnull().sum().sort_values(ascending=False).head()"
   ]
  },
  {
   "cell_type": "code",
   "execution_count": 6,
   "metadata": {},
   "outputs": [],
   "source": [
    "# Use get_dummies in pandas \n",
    "#dummies = pd.get_dummies(df_flight['UniqueCarrier'], prefix='UniqueCarrier', dummy_na=False)\n",
    "#df_flight = df_flight.drop('UniqueCarrier', 1)\n",
    "#df_flight = pd.concat([df_flight, dummies], axis=1)"
   ]
  },
  {
   "cell_type": "code",
   "execution_count": 7,
   "metadata": {},
   "outputs": [
    {
     "name": "stdout",
     "output_type": "stream",
     "text": [
      "            Year         Month    DayofMonth     DayOfWeek    CRSDepTime  \\\n",
      "count  7453215.0  7.453215e+06  7.453215e+06  7.453215e+06  7.453215e+06   \n",
      "mean      2007.0  6.514876e+00  1.572589e+01  3.933804e+00  1.330596e+03   \n",
      "std          0.0  3.425117e+00  8.781154e+00  1.992267e+00  4.647080e+02   \n",
      "min       2007.0  1.000000e+00  1.000000e+00  1.000000e+00  0.000000e+00   \n",
      "25%       2007.0  4.000000e+00  8.000000e+00  2.000000e+00  9.300000e+02   \n",
      "50%       2007.0  7.000000e+00  1.600000e+01  4.000000e+00  1.322000e+03   \n",
      "75%       2007.0  9.000000e+00  2.300000e+01  6.000000e+00  1.720000e+03   \n",
      "max       2007.0  1.200000e+01  3.100000e+01  7.000000e+00  2.359000e+03   \n",
      "\n",
      "         CRSArrTime     FlightNum      Distance     Cancelled  \n",
      "count  7.453215e+06  7.453215e+06  7.453215e+06  7.453215e+06  \n",
      "mean   1.495392e+03  2.188099e+03  7.198058e+02  2.156761e-02  \n",
      "std    4.815902e+02  1.971958e+03  5.623051e+02  1.452668e-01  \n",
      "min    0.000000e+00  1.000000e+00  1.100000e+01  0.000000e+00  \n",
      "25%    1.115000e+03  5.900000e+02  3.190000e+02  0.000000e+00  \n",
      "50%    1.520000e+03  1.509000e+03  5.690000e+02  0.000000e+00  \n",
      "75%    1.906000e+03  3.553000e+03  9.460000e+02  0.000000e+00  \n",
      "max    2.400000e+03  9.602000e+03  4.962000e+03  1.000000e+00  \n"
     ]
    }
   ],
   "source": [
    "print(df_flight.describe())"
   ]
  },
  {
   "cell_type": "code",
   "execution_count": 8,
   "metadata": {},
   "outputs": [],
   "source": [
    "# Change the dtypes (int64 -> int32)\n",
    "\n",
    "df_flight[['Year',\n",
    " 'Month',\n",
    " 'DayofMonth',\n",
    " 'DayOfWeek',\n",
    " 'CRSDepTime',\n",
    " 'CRSArrTime',\n",
    " 'FlightNum', \n",
    " 'Distance',\n",
    " 'Cancelled']] = df_flight[['Year',\n",
    " 'Month',\n",
    " 'DayofMonth',\n",
    " 'DayOfWeek',\n",
    " 'CRSDepTime',\n",
    " 'CRSArrTime',\n",
    " 'FlightNum', \n",
    " 'Distance',\n",
    " 'Cancelled']].astype('int32')"
   ]
  },
  {
   "cell_type": "code",
   "execution_count": 9,
   "metadata": {},
   "outputs": [
    {
     "data": {
      "text/plain": [
       "Year          int32\n",
       "Month         int32\n",
       "DayofMonth    int32\n",
       "DayOfWeek     int32\n",
       "CRSDepTime    int32\n",
       "CRSArrTime    int32\n",
       "FlightNum     int32\n",
       "Distance      int32\n",
       "Cancelled     int32\n",
       "dtype: object"
      ]
     },
     "execution_count": 9,
     "metadata": {},
     "output_type": "execute_result"
    }
   ],
   "source": [
    "df_flight.dtypes"
   ]
  },
  {
   "cell_type": "code",
   "execution_count": 10,
   "metadata": {},
   "outputs": [
    {
     "name": "stdout",
     "output_type": "stream",
     "text": [
      "   Year  Month  DayofMonth  DayOfWeek  CRSDepTime  CRSArrTime  FlightNum  \\\n",
      "0  2007      1           1          1        1225        1340       2891   \n",
      "1  2007      1           1          1        1905        2035        462   \n",
      "2  2007      1           1          1        2130        2300       1229   \n",
      "3  2007      1           1          1        1200        1330       1355   \n",
      "4  2007      1           1          1         830        1000       2278   \n",
      "\n",
      "   Distance  Cancelled  \n",
      "0       389          0  \n",
      "1       479          0  \n",
      "2       479          0  \n",
      "3       479          0  \n",
      "4       479          0  \n"
     ]
    }
   ],
   "source": [
    "print(df_flight.head(5))"
   ]
  },
  {
   "cell_type": "code",
   "execution_count": 11,
   "metadata": {},
   "outputs": [],
   "source": [
    "def find_outliers_tukey(x):\n",
    "    q1 = np.percentile(x, 10)\n",
    "    q3 = np.percentile(x, 90)\n",
    "    iqr = q3-q1 \n",
    "    floor = q1 - 1.5*iqr\n",
    "    ceiling = q3 + 1.5*iqr\n",
    "    outlier_indices = list(x.index[(x < floor)|(x > ceiling)])\n",
    "    outlier_values = list(x[outlier_indices])\n",
    "\n",
    "    return outlier_indices, outlier_values"
   ]
  },
  {
   "cell_type": "code",
   "execution_count": 12,
   "metadata": {},
   "outputs": [
    {
     "name": "stdout",
     "output_type": "stream",
     "text": [
      "[3711 3711 3711 ... 4962 4962 4962]\n"
     ]
    }
   ],
   "source": [
    "tukey_indices, tukey_values = find_outliers_tukey(df_flight['Distance'])\n",
    "print(np.sort(tukey_values))"
   ]
  },
  {
   "cell_type": "code",
   "execution_count": 13,
   "metadata": {},
   "outputs": [
    {
     "name": "stdout",
     "output_type": "stream",
     "text": [
      "False    7445437\n",
      "True        7778\n",
      "Name: Distance, dtype: int64\n"
     ]
    }
   ],
   "source": [
    "# Take a look at the outcome variable: 'Distance'\n",
    "print((df_flight['Distance'] > 3711) .value_counts())"
   ]
  },
  {
   "cell_type": "code",
   "execution_count": 14,
   "metadata": {},
   "outputs": [],
   "source": [
    "# Use pyplot in matplotlib to plot histograms\n",
    "%matplotlib inline\n",
    "import matplotlib.pyplot as plt\n",
    "\n",
    "def plot_histogram(x):\n",
    "    plt.hist(x, color='gray', alpha=0.5)\n",
    "    plt.title(\"Histogram of '{var_name}'\".format(var_name=x.name))\n",
    "    plt.xlabel(\"Value\")\n",
    "    plt.ylabel(\"Frequency\")\n",
    "    plt.show()"
   ]
  },
  {
   "cell_type": "code",
   "execution_count": 15,
   "metadata": {},
   "outputs": [
    {
     "data": {
      "image/png": "[encoded data removed]",
      "text/plain": [
       "<Figure size 432x288 with 1 Axes>"
      ]
     },
     "metadata": {
      "needs_background": "light"
     },
     "output_type": "display_data"
    }
   ],
   "source": [
    "plot_histogram(df_flight['Distance'])"
   ]
  },
  {
   "cell_type": "code",
   "execution_count": 16,
   "metadata": {},
   "outputs": [
    {
     "data": {
      "image/png": "[encoded data removed]",
      "text/plain": [
       "<Figure size 432x288 with 1 Axes>"
      ]
     },
     "metadata": {
      "needs_background": "light"
     },
     "output_type": "display_data"
    }
   ],
   "source": [
    "plot_histogram(df_flight['CRSDepTime'])  "
   ]
  },
  {
   "cell_type": "code",
   "execution_count": 17,
   "metadata": {},
   "outputs": [
    {
     "data": {
      "image/png": "[encoded data removed]",
      "text/plain": [
       "<Figure size 432x288 with 1 Axes>"
      ]
     },
     "metadata": {
      "needs_background": "light"
     },
     "output_type": "display_data"
    }
   ],
   "source": [
    "plot_histogram(df_flight['Month'])"
   ]
  },
  {
   "cell_type": "code",
   "execution_count": 18,
   "metadata": {},
   "outputs": [
    {
     "data": {
      "image/png": "[encoded data removed]",
      "text/plain": [
       "<Figure size 432x288 with 1 Axes>"
      ]
     },
     "metadata": {
      "needs_background": "light"
     },
     "output_type": "display_data"
    }
   ],
   "source": [
    "plot_histogram(df_flight['DayOfWeek'])"
   ]
  },
  {
   "cell_type": "code",
   "execution_count": 19,
   "metadata": {},
   "outputs": [
    {
     "data": {
      "image/png": "[encoded data removed]",
      "text/plain": [
       "<Figure size 432x288 with 1 Axes>"
      ]
     },
     "metadata": {
      "needs_background": "light"
     },
     "output_type": "display_data"
    }
   ],
   "source": [
    "plot_histogram(df_flight['DayofMonth'])"
   ]
  },
  {
   "cell_type": "code",
   "execution_count": 20,
   "metadata": {},
   "outputs": [],
   "source": [
    "# Use PCA from sklearn.decompostion to find principal components\n",
    "from sklearn.decomposition import PCA\n",
    "\n",
    "pca = PCA(n_components=5)\n",
    "df_flight_pca = pd.DataFrame(pca.fit_transform(df_flight))"
   ]
  },
  {
   "cell_type": "code",
   "execution_count": 21,
   "metadata": {},
   "outputs": [
    {
     "name": "stdout",
     "output_type": "stream",
     "text": [
      "             0            1           2          3          4\n",
      "0   735.134177   187.665993 -250.500190  20.206383 -14.746967\n",
      "1 -1696.894449  -761.369086 -445.577259  29.157122 -14.739025\n",
      "2  -936.723234 -1116.265620 -375.095377  10.197230 -14.731199\n",
      "3  -801.623652   225.551030 -320.772139   9.118020 -14.752230\n",
      "4   119.784015   709.838546 -207.541690 -28.048869 -14.757038\n"
     ]
    }
   ],
   "source": [
    "print(df_flight_pca.head(5))\n",
    "plt.show()"
   ]
  }
 ],
 "metadata": {
  "kernelspec": {
   "display_name": "Python 3",
   "language": "python",
   "name": "python3"
  },
  "language_info": {
   "codemirror_mode": {
    "name": "ipython",
    "version": 3
   },
   "file_extension": ".py",
   "mimetype": "text/x-python",
   "name": "python",
   "nbconvert_exporter": "python",
   "pygments_lexer": "ipython3",
   "version": "3.7.3"
  }
 },
 "nbformat": 4,
 "nbformat_minor": 2
}
