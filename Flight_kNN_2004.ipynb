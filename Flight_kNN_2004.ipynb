{
 "cells": [
  {
   "cell_type": "code",
   "execution_count": 1,
   "metadata": {},
   "outputs": [
    {
     "data": {
      "text/html": [
       "<div>\n",
       "<style scoped>\n",
       "    .dataframe tbody tr th:only-of-type {\n",
       "        vertical-align: middle;\n",
       "    }\n",
       "\n",
       "    .dataframe tbody tr th {\n",
       "        vertical-align: top;\n",
       "    }\n",
       "\n",
       "    .dataframe thead th {\n",
       "        text-align: right;\n",
       "    }\n",
       "</style>\n",
       "<table border=\"1\" class=\"dataframe\">\n",
       "  <thead>\n",
       "    <tr style=\"text-align: right;\">\n",
       "      <th></th>\n",
       "      <th>Year</th>\n",
       "      <th>Month</th>\n",
       "      <th>DayofMonth</th>\n",
       "      <th>DayOfWeek</th>\n",
       "      <th>DepTime</th>\n",
       "      <th>CRSDepTime</th>\n",
       "      <th>ArrTime</th>\n",
       "      <th>CRSArrTime</th>\n",
       "      <th>UniqueCarrier</th>\n",
       "      <th>FlightNum</th>\n",
       "      <th>...</th>\n",
       "      <th>TaxiIn</th>\n",
       "      <th>TaxiOut</th>\n",
       "      <th>Cancelled</th>\n",
       "      <th>CancellationCode</th>\n",
       "      <th>Diverted</th>\n",
       "      <th>CarrierDelay</th>\n",
       "      <th>WeatherDelay</th>\n",
       "      <th>NASDelay</th>\n",
       "      <th>SecurityDelay</th>\n",
       "      <th>LateAircraftDelay</th>\n",
       "    </tr>\n",
       "  </thead>\n",
       "  <tbody>\n",
       "    <tr>\n",
       "      <th>0</th>\n",
       "      <td>2004</td>\n",
       "      <td>1</td>\n",
       "      <td>12</td>\n",
       "      <td>1</td>\n",
       "      <td>623.0</td>\n",
       "      <td>630</td>\n",
       "      <td>901.0</td>\n",
       "      <td>915</td>\n",
       "      <td>UA</td>\n",
       "      <td>462</td>\n",
       "      <td>...</td>\n",
       "      <td>7</td>\n",
       "      <td>11</td>\n",
       "      <td>0</td>\n",
       "      <td>NaN</td>\n",
       "      <td>0</td>\n",
       "      <td>0</td>\n",
       "      <td>0</td>\n",
       "      <td>0</td>\n",
       "      <td>0</td>\n",
       "      <td>0</td>\n",
       "    </tr>\n",
       "    <tr>\n",
       "      <th>1</th>\n",
       "      <td>2004</td>\n",
       "      <td>1</td>\n",
       "      <td>13</td>\n",
       "      <td>2</td>\n",
       "      <td>621.0</td>\n",
       "      <td>630</td>\n",
       "      <td>911.0</td>\n",
       "      <td>915</td>\n",
       "      <td>UA</td>\n",
       "      <td>462</td>\n",
       "      <td>...</td>\n",
       "      <td>16</td>\n",
       "      <td>16</td>\n",
       "      <td>0</td>\n",
       "      <td>NaN</td>\n",
       "      <td>0</td>\n",
       "      <td>0</td>\n",
       "      <td>0</td>\n",
       "      <td>0</td>\n",
       "      <td>0</td>\n",
       "      <td>0</td>\n",
       "    </tr>\n",
       "    <tr>\n",
       "      <th>2</th>\n",
       "      <td>2004</td>\n",
       "      <td>1</td>\n",
       "      <td>14</td>\n",
       "      <td>3</td>\n",
       "      <td>633.0</td>\n",
       "      <td>630</td>\n",
       "      <td>920.0</td>\n",
       "      <td>915</td>\n",
       "      <td>UA</td>\n",
       "      <td>462</td>\n",
       "      <td>...</td>\n",
       "      <td>4</td>\n",
       "      <td>15</td>\n",
       "      <td>0</td>\n",
       "      <td>NaN</td>\n",
       "      <td>0</td>\n",
       "      <td>0</td>\n",
       "      <td>0</td>\n",
       "      <td>0</td>\n",
       "      <td>0</td>\n",
       "      <td>0</td>\n",
       "    </tr>\n",
       "    <tr>\n",
       "      <th>3</th>\n",
       "      <td>2004</td>\n",
       "      <td>1</td>\n",
       "      <td>15</td>\n",
       "      <td>4</td>\n",
       "      <td>627.0</td>\n",
       "      <td>630</td>\n",
       "      <td>859.0</td>\n",
       "      <td>915</td>\n",
       "      <td>UA</td>\n",
       "      <td>462</td>\n",
       "      <td>...</td>\n",
       "      <td>4</td>\n",
       "      <td>10</td>\n",
       "      <td>0</td>\n",
       "      <td>NaN</td>\n",
       "      <td>0</td>\n",
       "      <td>0</td>\n",
       "      <td>0</td>\n",
       "      <td>0</td>\n",
       "      <td>0</td>\n",
       "      <td>0</td>\n",
       "    </tr>\n",
       "    <tr>\n",
       "      <th>4</th>\n",
       "      <td>2004</td>\n",
       "      <td>1</td>\n",
       "      <td>16</td>\n",
       "      <td>5</td>\n",
       "      <td>635.0</td>\n",
       "      <td>630</td>\n",
       "      <td>918.0</td>\n",
       "      <td>915</td>\n",
       "      <td>UA</td>\n",
       "      <td>462</td>\n",
       "      <td>...</td>\n",
       "      <td>3</td>\n",
       "      <td>13</td>\n",
       "      <td>0</td>\n",
       "      <td>NaN</td>\n",
       "      <td>0</td>\n",
       "      <td>0</td>\n",
       "      <td>0</td>\n",
       "      <td>0</td>\n",
       "      <td>0</td>\n",
       "      <td>0</td>\n",
       "    </tr>\n",
       "  </tbody>\n",
       "</table>\n",
       "<p>5 rows × 29 columns</p>\n",
       "</div>"
      ],
      "text/plain": [
       "   Year  Month  DayofMonth  DayOfWeek  DepTime  CRSDepTime  ArrTime  \\\n",
       "0  2004      1          12          1    623.0         630    901.0   \n",
       "1  2004      1          13          2    621.0         630    911.0   \n",
       "2  2004      1          14          3    633.0         630    920.0   \n",
       "3  2004      1          15          4    627.0         630    859.0   \n",
       "4  2004      1          16          5    635.0         630    918.0   \n",
       "\n",
       "   CRSArrTime UniqueCarrier  FlightNum  ... TaxiIn  TaxiOut  Cancelled  \\\n",
       "0         915            UA        462  ...      7       11          0   \n",
       "1         915            UA        462  ...     16       16          0   \n",
       "2         915            UA        462  ...      4       15          0   \n",
       "3         915            UA        462  ...      4       10          0   \n",
       "4         915            UA        462  ...      3       13          0   \n",
       "\n",
       "   CancellationCode  Diverted  CarrierDelay WeatherDelay NASDelay  \\\n",
       "0               NaN         0             0            0        0   \n",
       "1               NaN         0             0            0        0   \n",
       "2               NaN         0             0            0        0   \n",
       "3               NaN         0             0            0        0   \n",
       "4               NaN         0             0            0        0   \n",
       "\n",
       "   SecurityDelay  LateAircraftDelay  \n",
       "0              0                  0  \n",
       "1              0                  0  \n",
       "2              0                  0  \n",
       "3              0                  0  \n",
       "4              0                  0  \n",
       "\n",
       "[5 rows x 29 columns]"
      ]
     },
     "execution_count": 1,
     "metadata": {},
     "output_type": "execute_result"
    }
   ],
   "source": [
    "import pandas as pd\n",
    "import numpy as np\n",
    "df_flight = pd.read_csv(\"2004.csv\")\n",
    "df_flight.head(5)"
   ]
  },
  {
   "cell_type": "code",
   "execution_count": 2,
   "metadata": {},
   "outputs": [
    {
     "data": {
      "text/html": [
       "<div>\n",
       "<style scoped>\n",
       "    .dataframe tbody tr th:only-of-type {\n",
       "        vertical-align: middle;\n",
       "    }\n",
       "\n",
       "    .dataframe tbody tr th {\n",
       "        vertical-align: top;\n",
       "    }\n",
       "\n",
       "    .dataframe thead th {\n",
       "        text-align: right;\n",
       "    }\n",
       "</style>\n",
       "<table border=\"1\" class=\"dataframe\">\n",
       "  <thead>\n",
       "    <tr style=\"text-align: right;\">\n",
       "      <th></th>\n",
       "      <th>Year</th>\n",
       "      <th>Month</th>\n",
       "      <th>DayofMonth</th>\n",
       "      <th>DayOfWeek</th>\n",
       "      <th>CRSDepTime</th>\n",
       "      <th>ArrDelay</th>\n",
       "      <th>Origin</th>\n",
       "      <th>Distance</th>\n",
       "      <th>Cancelled</th>\n",
       "    </tr>\n",
       "  </thead>\n",
       "  <tbody>\n",
       "    <tr>\n",
       "      <th>0</th>\n",
       "      <td>2004</td>\n",
       "      <td>1</td>\n",
       "      <td>12</td>\n",
       "      <td>1</td>\n",
       "      <td>630</td>\n",
       "      <td>-14.0</td>\n",
       "      <td>ORD</td>\n",
       "      <td>599</td>\n",
       "      <td>0</td>\n",
       "    </tr>\n",
       "    <tr>\n",
       "      <th>1</th>\n",
       "      <td>2004</td>\n",
       "      <td>1</td>\n",
       "      <td>13</td>\n",
       "      <td>2</td>\n",
       "      <td>630</td>\n",
       "      <td>-4.0</td>\n",
       "      <td>ORD</td>\n",
       "      <td>599</td>\n",
       "      <td>0</td>\n",
       "    </tr>\n",
       "    <tr>\n",
       "      <th>2</th>\n",
       "      <td>2004</td>\n",
       "      <td>1</td>\n",
       "      <td>14</td>\n",
       "      <td>3</td>\n",
       "      <td>630</td>\n",
       "      <td>5.0</td>\n",
       "      <td>ORD</td>\n",
       "      <td>599</td>\n",
       "      <td>0</td>\n",
       "    </tr>\n",
       "    <tr>\n",
       "      <th>3</th>\n",
       "      <td>2004</td>\n",
       "      <td>1</td>\n",
       "      <td>15</td>\n",
       "      <td>4</td>\n",
       "      <td>630</td>\n",
       "      <td>-16.0</td>\n",
       "      <td>ORD</td>\n",
       "      <td>599</td>\n",
       "      <td>0</td>\n",
       "    </tr>\n",
       "    <tr>\n",
       "      <th>4</th>\n",
       "      <td>2004</td>\n",
       "      <td>1</td>\n",
       "      <td>16</td>\n",
       "      <td>5</td>\n",
       "      <td>630</td>\n",
       "      <td>3.0</td>\n",
       "      <td>ORD</td>\n",
       "      <td>599</td>\n",
       "      <td>0</td>\n",
       "    </tr>\n",
       "  </tbody>\n",
       "</table>\n",
       "</div>"
      ],
      "text/plain": [
       "   Year  Month  DayofMonth  DayOfWeek  CRSDepTime  ArrDelay Origin  Distance  \\\n",
       "0  2004      1          12          1         630     -14.0    ORD       599   \n",
       "1  2004      1          13          2         630      -4.0    ORD       599   \n",
       "2  2004      1          14          3         630       5.0    ORD       599   \n",
       "3  2004      1          15          4         630     -16.0    ORD       599   \n",
       "4  2004      1          16          5         630       3.0    ORD       599   \n",
       "\n",
       "   Cancelled  \n",
       "0          0  \n",
       "1          0  \n",
       "2          0  \n",
       "3          0  \n",
       "4          0  "
      ]
     },
     "execution_count": 2,
     "metadata": {},
     "output_type": "execute_result"
    }
   ],
   "source": [
    "# Filter out unimportant columns\n",
    "\n",
    "df_flight = df_flight[['Year',\n",
    " 'Month',\n",
    " 'DayofMonth',\n",
    " 'DayOfWeek',                     \n",
    " 'CRSDepTime',\n",
    " 'ArrDelay',                     \n",
    " 'Origin',\n",
    " 'Distance',\n",
    " 'Cancelled' ]]\n",
    "\n",
    "df_flight.head(5)"
   ]
  },
  {
   "cell_type": "code",
   "execution_count": 3,
   "metadata": {},
   "outputs": [
    {
     "data": {
      "text/plain": [
       "(7129270, 9)"
      ]
     },
     "execution_count": 3,
     "metadata": {},
     "output_type": "execute_result"
    }
   ],
   "source": [
    "df_flight.shape"
   ]
  },
  {
   "cell_type": "code",
   "execution_count": 4,
   "metadata": {},
   "outputs": [
    {
     "data": {
      "text/plain": [
       "ArrDelay      141541\n",
       "Cancelled          0\n",
       "Distance           0\n",
       "Origin             0\n",
       "CRSDepTime         0\n",
       "dtype: int64"
      ]
     },
     "execution_count": 4,
     "metadata": {},
     "output_type": "execute_result"
    }
   ],
   "source": [
    "# How much of your data is missing?\n",
    "df_flight.isnull().sum().sort_values(ascending=False).head()"
   ]
  },
  {
   "cell_type": "code",
   "execution_count": 5,
   "metadata": {},
   "outputs": [
    {
     "data": {
      "text/html": [
       "<div>\n",
       "<style scoped>\n",
       "    .dataframe tbody tr th:only-of-type {\n",
       "        vertical-align: middle;\n",
       "    }\n",
       "\n",
       "    .dataframe tbody tr th {\n",
       "        vertical-align: top;\n",
       "    }\n",
       "\n",
       "    .dataframe thead th {\n",
       "        text-align: right;\n",
       "    }\n",
       "</style>\n",
       "<table border=\"1\" class=\"dataframe\">\n",
       "  <thead>\n",
       "    <tr style=\"text-align: right;\">\n",
       "      <th></th>\n",
       "      <th>Year</th>\n",
       "      <th>Month</th>\n",
       "      <th>DayofMonth</th>\n",
       "      <th>DayOfWeek</th>\n",
       "      <th>CRSDepTime</th>\n",
       "      <th>ArrDelay</th>\n",
       "      <th>Origin</th>\n",
       "      <th>Distance</th>\n",
       "      <th>Cancelled</th>\n",
       "    </tr>\n",
       "  </thead>\n",
       "  <tbody>\n",
       "    <tr>\n",
       "      <th>12</th>\n",
       "      <td>2004</td>\n",
       "      <td>1</td>\n",
       "      <td>26</td>\n",
       "      <td>1</td>\n",
       "      <td>630</td>\n",
       "      <td>NaN</td>\n",
       "      <td>ORD</td>\n",
       "      <td>599</td>\n",
       "      <td>1</td>\n",
       "    </tr>\n",
       "    <tr>\n",
       "      <th>21</th>\n",
       "      <td>2004</td>\n",
       "      <td>1</td>\n",
       "      <td>4</td>\n",
       "      <td>7</td>\n",
       "      <td>1505</td>\n",
       "      <td>NaN</td>\n",
       "      <td>ORD</td>\n",
       "      <td>1739</td>\n",
       "      <td>1</td>\n",
       "    </tr>\n",
       "    <tr>\n",
       "      <th>23</th>\n",
       "      <td>2004</td>\n",
       "      <td>1</td>\n",
       "      <td>6</td>\n",
       "      <td>2</td>\n",
       "      <td>1505</td>\n",
       "      <td>NaN</td>\n",
       "      <td>ORD</td>\n",
       "      <td>1739</td>\n",
       "      <td>1</td>\n",
       "    </tr>\n",
       "    <tr>\n",
       "      <th>24</th>\n",
       "      <td>2004</td>\n",
       "      <td>1</td>\n",
       "      <td>7</td>\n",
       "      <td>3</td>\n",
       "      <td>1510</td>\n",
       "      <td>NaN</td>\n",
       "      <td>ORD</td>\n",
       "      <td>1739</td>\n",
       "      <td>1</td>\n",
       "    </tr>\n",
       "    <tr>\n",
       "      <th>25</th>\n",
       "      <td>2004</td>\n",
       "      <td>1</td>\n",
       "      <td>8</td>\n",
       "      <td>4</td>\n",
       "      <td>1510</td>\n",
       "      <td>NaN</td>\n",
       "      <td>ORD</td>\n",
       "      <td>1739</td>\n",
       "      <td>1</td>\n",
       "    </tr>\n",
       "  </tbody>\n",
       "</table>\n",
       "</div>"
      ],
      "text/plain": [
       "    Year  Month  DayofMonth  DayOfWeek  CRSDepTime  ArrDelay Origin  Distance  \\\n",
       "12  2004      1          26          1         630       NaN    ORD       599   \n",
       "21  2004      1           4          7        1505       NaN    ORD      1739   \n",
       "23  2004      1           6          2        1505       NaN    ORD      1739   \n",
       "24  2004      1           7          3        1510       NaN    ORD      1739   \n",
       "25  2004      1           8          4        1510       NaN    ORD      1739   \n",
       "\n",
       "    Cancelled  \n",
       "12          1  \n",
       "21          1  \n",
       "23          1  \n",
       "24          1  \n",
       "25          1  "
      ]
     },
     "execution_count": 5,
     "metadata": {},
     "output_type": "execute_result"
    }
   ],
   "source": [
    "df_flight[df_flight['Cancelled'] == 1].head(5)"
   ]
  },
  {
   "cell_type": "code",
   "execution_count": 6,
   "metadata": {},
   "outputs": [
    {
     "data": {
      "text/plain": [
       "<matplotlib.axes._subplots.AxesSubplot at 0x2979d1f63c8>"
      ]
     },
     "execution_count": 6,
     "metadata": {},
     "output_type": "execute_result"
    }
   ],
   "source": [
    "import matplotlib.pyplot as plt\n",
    "#pd.options.display.mpl_style = 'default'\n",
    "df_flight.boxplot()"
   ]
  },
  {
   "cell_type": "code",
   "execution_count": 7,
   "metadata": {},
   "outputs": [
    {
     "data": {
      "text/plain": [
       "array([[<matplotlib.axes._subplots.AxesSubplot object at 0x000002979D3C60F0>,\n",
       "        <matplotlib.axes._subplots.AxesSubplot object at 0x000002979D3C3320>,\n",
       "        <matplotlib.axes._subplots.AxesSubplot object at 0x000002979D426828>],\n",
       "       [<matplotlib.axes._subplots.AxesSubplot object at 0x000002979D459DD8>,\n",
       "        <matplotlib.axes._subplots.AxesSubplot object at 0x000002979E3463C8>,\n",
       "        <matplotlib.axes._subplots.AxesSubplot object at 0x000002979E378978>],\n",
       "       [<matplotlib.axes._subplots.AxesSubplot object at 0x000002979E3A9F28>,\n",
       "        <matplotlib.axes._subplots.AxesSubplot object at 0x000002979E3E8550>,\n",
       "        <matplotlib.axes._subplots.AxesSubplot object at 0x000002979E3E8588>]],\n",
       "      dtype=object)"
      ]
     },
     "execution_count": 7,
     "metadata": {},
     "output_type": "execute_result"
    },
    {
     "data": {
      "image/png": "[encoded data removed]",
      "text/plain": [
       "<Figure size 432x288 with 9 Axes>"
      ]
     },
     "metadata": {
      "needs_background": "light"
     },
     "output_type": "display_data"
    }
   ],
   "source": [
    "df_flight.hist()"
   ]
  },
  {
   "cell_type": "code",
   "execution_count": 8,
   "metadata": {},
   "outputs": [],
   "source": [
    "# Assign outcome as 0 if ArrDelay <=10 and as 1 if ArrDelay >10 and 2 is flight is cancelled\n",
    "def delay_df(df):\n",
    "\n",
    "    if (df['ArrDelay'] <= 10 and df['Cancelled'] == 0):\n",
    "        return 0\n",
    "    elif (df['ArrDelay'] > 10 and df['Cancelled'] == 0):\n",
    "        return 1\n",
    "    elif (df['Cancelled'] == 1):\n",
    "        return 2\n",
    "    else :return 0\n",
    "\n",
    "df_flight['ArrDelay'] = df_flight.apply(delay_df, axis = 1)"
   ]
  },
  {
   "cell_type": "code",
   "execution_count": 9,
   "metadata": {},
   "outputs": [
    {
     "data": {
      "text/plain": [
       "Cancelled     0\n",
       "Distance      0\n",
       "Origin        0\n",
       "ArrDelay      0\n",
       "CRSDepTime    0\n",
       "dtype: int64"
      ]
     },
     "execution_count": 9,
     "metadata": {},
     "output_type": "execute_result"
    }
   ],
   "source": [
    "# How much of your data is missing?\n",
    "df_flight.isnull().sum().sort_values(ascending=False).head()"
   ]
  },
  {
   "cell_type": "code",
   "execution_count": 10,
   "metadata": {},
   "outputs": [
    {
     "name": "stdout",
     "output_type": "stream",
     "text": [
      "0    5277005\n",
      "1    1724508\n",
      "2     127757\n",
      "Name: ArrDelay, dtype: int64\n"
     ]
    }
   ],
   "source": [
    "# Take a look at the outcome variable: 'ArrDelay'\n",
    "print(df_flight['ArrDelay'].value_counts())\n",
    "# Assign X as a DataFrame of features and y as a Series of the outcome variable\n",
    "X = df_flight.drop('ArrDelay', 1)\n",
    "y = df_flight.ArrDelay"
   ]
  },
  {
   "cell_type": "code",
   "execution_count": 11,
   "metadata": {},
   "outputs": [
    {
     "name": "stdout",
     "output_type": "stream",
     "text": [
      "   Year  Month  DayofMonth  DayOfWeek  CRSDepTime Origin  Distance  Cancelled\n",
      "0  2004      1          12          1         630    ORD       599          0\n",
      "1  2004      1          13          2         630    ORD       599          0\n",
      "2  2004      1          14          3         630    ORD       599          0\n",
      "3  2004      1          15          4         630    ORD       599          0\n",
      "4  2004      1          16          5         630    ORD       599          0\n",
      "0    0\n",
      "1    0\n",
      "2    0\n",
      "3    0\n",
      "4    0\n",
      "Name: ArrDelay, dtype: int64\n"
     ]
    }
   ],
   "source": [
    "print(X.head(5))\n",
    "print(y.head(5))"
   ]
  },
  {
   "cell_type": "code",
   "execution_count": 12,
   "metadata": {},
   "outputs": [
    {
     "name": "stdout",
     "output_type": "stream",
     "text": [
      "ATL    418072\n",
      "ORD    376170\n",
      "DFW    344834\n",
      "LAX    232621\n",
      "CVG    208011\n",
      "IAH    202030\n",
      "PHX    170209\n",
      "LAS    158177\n",
      "EWR    158150\n",
      "DEN    155205\n",
      "Name: Origin, dtype: int64\n"
     ]
    }
   ],
   "source": [
    "# Take a look at the outcome variable: 'Origin'\n",
    "print(X['Origin'].value_counts().head(10))"
   ]
  },
  {
   "cell_type": "code",
   "execution_count": 13,
   "metadata": {},
   "outputs": [
    {
     "name": "stdout",
     "output_type": "stream",
     "text": [
      "6    5549562\n",
      "1     418072\n",
      "2     376170\n",
      "3     344834\n",
      "4     232621\n",
      "5     208011\n",
      "Name: Origin, dtype: int64\n"
     ]
    }
   ],
   "source": [
    "# In this case, bucket low frequecy categories as \"Other\"\n",
    "X['Origin'] = [1 if x == 'ATL' else 2 if x == 'ORD' else 3 if x == 'DFW' else 4 if x == 'LAX' \n",
    "               else 5 if x == 'CVG' else 6 for x in X['Origin']]\n",
    "\n",
    "print(X['Origin'].value_counts().sort_values(ascending=False))"
   ]
  },
  {
   "cell_type": "code",
   "execution_count": 14,
   "metadata": {},
   "outputs": [],
   "source": [
    "# Plot histograms to show distribution of features by outcome categories\n",
    "%matplotlib inline\n",
    "import matplotlib.pyplot as plt\n",
    "\n",
    "def plot_histogram_dv(x,y):\n",
    "    plt.hist(list(x[y==0]), alpha=0.5, label='Outcome=0')\n",
    "    plt.hist(list(x[y==1]), alpha=0.5, label='Outcome=1')\n",
    "    plt.title(\"Histogram of '{var_name}' by Outcome Category\".format(var_name=x.name))\n",
    "    plt.xlabel(\"Value\")\n",
    "    plt.ylabel(\"Frequency\")\n",
    "    plt.legend(loc='upper right')\n",
    "    plt.show()"
   ]
  },
  {
   "cell_type": "code",
   "execution_count": 15,
   "metadata": {},
   "outputs": [
    {
     "data": {
      "image/png": "[encoded data removed]",
      "text/plain": [
       "<Figure size 432x288 with 1 Axes>"
      ]
     },
     "metadata": {
      "needs_background": "light"
     },
     "output_type": "display_data"
    }
   ],
   "source": [
    "plot_histogram_dv(X['Month'], y)"
   ]
  },
  {
   "cell_type": "code",
   "execution_count": 16,
   "metadata": {},
   "outputs": [],
   "source": [
    "# Use train_test_split in sklearn.model_selection to split data into train and test sets\n",
    "from sklearn.model_selection import train_test_split\n",
    "\n",
    "X_train, X_test, y_train, y_test = train_test_split(X, y, train_size=0.80, random_state=1)"
   ]
  },
  {
   "cell_type": "code",
   "execution_count": null,
   "metadata": {},
   "outputs": [],
   "source": [
    "from sklearn.neighbors import KNeighborsClassifier\n",
    "knn = KNeighborsClassifier(n_neighbors=6, metric='euclidean')\n",
    "knn.fit(X_train, y_train)"
   ]
  },
  {
   "cell_type": "code",
   "execution_count": null,
   "metadata": {},
   "outputs": [],
   "source": [
    "y_pred = knn.predict(X_test)"
   ]
  },
  {
   "cell_type": "code",
   "execution_count": null,
   "metadata": {},
   "outputs": [],
   "source": [
    "# Let’s evaluate our KNN model!\n",
    "from sklearn.metrics import classification_report,confusion_matrix\n",
    "print('WITH K=6')\n",
    "print('\\n')\n",
    "print(confusion_matrix(y_test,y_pred))\n",
    "print('\\n')\n",
    "print(classification_report(y_test,y_pred))"
   ]
  },
  {
   "cell_type": "code",
   "execution_count": 20,
   "metadata": {},
   "outputs": [
    {
     "data": {
      "text/plain": [
       "<matplotlib.collections.PathCollection at 0x29824122eb8>"
      ]
     },
     "execution_count": 20,
     "metadata": {},
     "output_type": "execute_result"
    },
    {
     "data": {
      "image/png": "[encoded data removed]",
      "text/plain": [
       "<Figure size 432x288 with 1 Axes>"
      ]
     },
     "metadata": {
      "needs_background": "light"
     },
     "output_type": "display_data"
    }
   ],
   "source": [
    "plt.scatter(\n",
    "    X_test['Origin'],\n",
    "    X_test['Month'],\n",
    "    c=y_pred,\n",
    "    cmap='coolwarm',\n",
    "    alpha=0.7\n",
    ")"
   ]
  },
  {
   "cell_type": "code",
   "execution_count": null,
   "metadata": {},
   "outputs": [],
   "source": [
    "error = []\n",
    "\n",
    "# Calculating error for K values between 1 and 15\n",
    "for i in range(1, 15):\n",
    "    knn = KNeighborsClassifier(n_neighbors=i)\n",
    "    knn.fit(X_train, y_train)\n",
    "    pred_i = knn.predict(X_test)\n",
    "    error.append(np.mean(pred_i != y_test))"
   ]
  },
  {
   "cell_type": "code",
   "execution_count": null,
   "metadata": {},
   "outputs": [],
   "source": [
    "plt.figure(figsize=(12, 6))\n",
    "plt.plot(range(1, 15), error, color='red', linestyle='dashed', marker='o',\n",
    "         markerfacecolor='blue', markersize=10)\n",
    "plt.title('Error Rate K Value')\n",
    "plt.xlabel('K Value')\n",
    "plt.ylabel('Mean Error')"
   ]
  }
 ],
 "metadata": {
  "kernelspec": {
   "display_name": "Python 3",
   "language": "python",
   "name": "python3"
  },
  "language_info": {
   "codemirror_mode": {
    "name": "ipython",
    "version": 3
   },
   "file_extension": ".py",
   "mimetype": "text/x-python",
   "name": "python",
   "nbconvert_exporter": "python",
   "pygments_lexer": "ipython3",
   "version": "3.7.3"
  }
 },
 "nbformat": 4,
 "nbformat_minor": 2
}
